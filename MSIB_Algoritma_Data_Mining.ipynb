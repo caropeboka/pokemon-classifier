{
  "nbformat": 4,
  "nbformat_minor": 0,
  "metadata": {
    "colab": {
      "provenance": [],
      "authorship_tag": "ABX9TyN9AFy+aynP+lIYmv6IpnoI",
      "include_colab_link": true
    },
    "kernelspec": {
      "name": "python3",
      "display_name": "Python 3"
    },
    "language_info": {
      "name": "python"
    },
    "accelerator": "GPU",
    "gpuClass": "standard"
  },
  "cells": [
    {
      "cell_type": "markdown",
      "metadata": {
        "id": "view-in-github",
        "colab_type": "text"
      },
      "source": [
        "<a href=\"https://colab.research.google.com/github/caropeboka/pokemon-classifier/blob/main/MSIB_Algoritma_Data_Mining.ipynb\" target=\"_parent\"><img src=\"https://colab.research.google.com/assets/colab-badge.svg\" alt=\"Open In Colab\"/></a>"
      ]
    },
    {
      "cell_type": "markdown",
      "source": [
        "Muhammad Kevin Mahendra Caropeboka\n",
        "\n",
        "MSIB Bisa AI\n",
        "\n",
        "AI-Hacker"
      ],
      "metadata": {
        "id": "p5wDD9_WlfEF"
      }
    },
    {
      "cell_type": "code",
      "execution_count": null,
      "metadata": {
        "colab": {
          "base_uri": "https://localhost:8080/"
        },
        "id": "9vI8hkKedh_I",
        "outputId": "d5bf5d2f-7ae7-4800-db66-8a6d6292e5b3"
      },
      "outputs": [
        {
          "output_type": "stream",
          "name": "stdout",
          "text": [
            "Mounted at /content/drive\n"
          ]
        }
      ],
      "source": [
        "#mount drive\n",
        "from google.colab import drive\n",
        "drive.mount ('/content/drive')"
      ]
    },
    {
      "cell_type": "code",
      "source": [
        "import math\n",
        "import numpy as np\n",
        "import pandas as pd\n",
        "import seaborn as sns\n",
        "import matplotlib.pyplot as plt"
      ],
      "metadata": {
        "id": "Qqro6t7zhWfU"
      },
      "execution_count": null,
      "outputs": []
    },
    {
      "cell_type": "code",
      "source": [
        "train = pd.read_csv('drive/MyDrive/Dataset/pokemon-datasets-for-ml/train_pokemon.csv')\n",
        "test = pd.read_csv('drive/MyDrive/Dataset/pokemon-datasets-for-ml/test_pokemon.csv')"
      ],
      "metadata": {
        "id": "rQQe48qbhYtT"
      },
      "execution_count": null,
      "outputs": []
    },
    {
      "cell_type": "code",
      "source": [
        "train.head(3)"
      ],
      "metadata": {
        "colab": {
          "base_uri": "https://localhost:8080/",
          "height": 237
        },
        "id": "kRH9-gKpjecz",
        "outputId": "d5047143-b525-47cb-9307-68013b7062a2"
      },
      "execution_count": null,
      "outputs": [
        {
          "output_type": "execute_result",
          "data": {
            "text/plain": [
              "   Number      Name  Type_1  Type_2  Total  HP  Attack  Defense  Sp_Atk  \\\n",
              "0     696    Tyrunt    Rock  Dragon    362  58      89       77      45   \n",
              "1     271    Lombre   Water   Grass    340  60      50       50      60   \n",
              "2     335  Zangoose  Normal     NaN    458  73     115       60      60   \n",
              "\n",
              "   Sp_Def  ...  hasGender  Pr_Male  Egg_Group_1 Egg_Group_2  hasMegaEvolution  \\\n",
              "0      45  ...       True    0.875      Monster      Dragon             False   \n",
              "1      70  ...       True    0.500      Water_1       Grass             False   \n",
              "2      60  ...       True    0.500        Field         NaN             False   \n",
              "\n",
              "   Height_m Weight_kg Catch_Rate        Body_Style   shuffle  \n",
              "0      0.79      26.0         45    bipedal_tailed  0.806833  \n",
              "1      1.19      32.5        120  bipedal_tailless  0.846142  \n",
              "2      1.30      40.3         90    bipedal_tailed  0.414744  \n",
              "\n",
              "[3 rows x 24 columns]"
            ],
            "text/html": [
              "\n",
              "  <div id=\"df-a7b4fed2-6c45-4d16-bcc4-0a463d86deca\">\n",
              "    <div class=\"colab-df-container\">\n",
              "      <div>\n",
              "<style scoped>\n",
              "    .dataframe tbody tr th:only-of-type {\n",
              "        vertical-align: middle;\n",
              "    }\n",
              "\n",
              "    .dataframe tbody tr th {\n",
              "        vertical-align: top;\n",
              "    }\n",
              "\n",
              "    .dataframe thead th {\n",
              "        text-align: right;\n",
              "    }\n",
              "</style>\n",
              "<table border=\"1\" class=\"dataframe\">\n",
              "  <thead>\n",
              "    <tr style=\"text-align: right;\">\n",
              "      <th></th>\n",
              "      <th>Number</th>\n",
              "      <th>Name</th>\n",
              "      <th>Type_1</th>\n",
              "      <th>Type_2</th>\n",
              "      <th>Total</th>\n",
              "      <th>HP</th>\n",
              "      <th>Attack</th>\n",
              "      <th>Defense</th>\n",
              "      <th>Sp_Atk</th>\n",
              "      <th>Sp_Def</th>\n",
              "      <th>...</th>\n",
              "      <th>hasGender</th>\n",
              "      <th>Pr_Male</th>\n",
              "      <th>Egg_Group_1</th>\n",
              "      <th>Egg_Group_2</th>\n",
              "      <th>hasMegaEvolution</th>\n",
              "      <th>Height_m</th>\n",
              "      <th>Weight_kg</th>\n",
              "      <th>Catch_Rate</th>\n",
              "      <th>Body_Style</th>\n",
              "      <th>shuffle</th>\n",
              "    </tr>\n",
              "  </thead>\n",
              "  <tbody>\n",
              "    <tr>\n",
              "      <th>0</th>\n",
              "      <td>696</td>\n",
              "      <td>Tyrunt</td>\n",
              "      <td>Rock</td>\n",
              "      <td>Dragon</td>\n",
              "      <td>362</td>\n",
              "      <td>58</td>\n",
              "      <td>89</td>\n",
              "      <td>77</td>\n",
              "      <td>45</td>\n",
              "      <td>45</td>\n",
              "      <td>...</td>\n",
              "      <td>True</td>\n",
              "      <td>0.875</td>\n",
              "      <td>Monster</td>\n",
              "      <td>Dragon</td>\n",
              "      <td>False</td>\n",
              "      <td>0.79</td>\n",
              "      <td>26.0</td>\n",
              "      <td>45</td>\n",
              "      <td>bipedal_tailed</td>\n",
              "      <td>0.806833</td>\n",
              "    </tr>\n",
              "    <tr>\n",
              "      <th>1</th>\n",
              "      <td>271</td>\n",
              "      <td>Lombre</td>\n",
              "      <td>Water</td>\n",
              "      <td>Grass</td>\n",
              "      <td>340</td>\n",
              "      <td>60</td>\n",
              "      <td>50</td>\n",
              "      <td>50</td>\n",
              "      <td>60</td>\n",
              "      <td>70</td>\n",
              "      <td>...</td>\n",
              "      <td>True</td>\n",
              "      <td>0.500</td>\n",
              "      <td>Water_1</td>\n",
              "      <td>Grass</td>\n",
              "      <td>False</td>\n",
              "      <td>1.19</td>\n",
              "      <td>32.5</td>\n",
              "      <td>120</td>\n",
              "      <td>bipedal_tailless</td>\n",
              "      <td>0.846142</td>\n",
              "    </tr>\n",
              "    <tr>\n",
              "      <th>2</th>\n",
              "      <td>335</td>\n",
              "      <td>Zangoose</td>\n",
              "      <td>Normal</td>\n",
              "      <td>NaN</td>\n",
              "      <td>458</td>\n",
              "      <td>73</td>\n",
              "      <td>115</td>\n",
              "      <td>60</td>\n",
              "      <td>60</td>\n",
              "      <td>60</td>\n",
              "      <td>...</td>\n",
              "      <td>True</td>\n",
              "      <td>0.500</td>\n",
              "      <td>Field</td>\n",
              "      <td>NaN</td>\n",
              "      <td>False</td>\n",
              "      <td>1.30</td>\n",
              "      <td>40.3</td>\n",
              "      <td>90</td>\n",
              "      <td>bipedal_tailed</td>\n",
              "      <td>0.414744</td>\n",
              "    </tr>\n",
              "  </tbody>\n",
              "</table>\n",
              "<p>3 rows × 24 columns</p>\n",
              "</div>\n",
              "      <button class=\"colab-df-convert\" onclick=\"convertToInteractive('df-a7b4fed2-6c45-4d16-bcc4-0a463d86deca')\"\n",
              "              title=\"Convert this dataframe to an interactive table.\"\n",
              "              style=\"display:none;\">\n",
              "        \n",
              "  <svg xmlns=\"http://www.w3.org/2000/svg\" height=\"24px\"viewBox=\"0 0 24 24\"\n",
              "       width=\"24px\">\n",
              "    <path d=\"M0 0h24v24H0V0z\" fill=\"none\"/>\n",
              "    <path d=\"M18.56 5.44l.94 2.06.94-2.06 2.06-.94-2.06-.94-.94-2.06-.94 2.06-2.06.94zm-11 1L8.5 8.5l.94-2.06 2.06-.94-2.06-.94L8.5 2.5l-.94 2.06-2.06.94zm10 10l.94 2.06.94-2.06 2.06-.94-2.06-.94-.94-2.06-.94 2.06-2.06.94z\"/><path d=\"M17.41 7.96l-1.37-1.37c-.4-.4-.92-.59-1.43-.59-.52 0-1.04.2-1.43.59L10.3 9.45l-7.72 7.72c-.78.78-.78 2.05 0 2.83L4 21.41c.39.39.9.59 1.41.59.51 0 1.02-.2 1.41-.59l7.78-7.78 2.81-2.81c.8-.78.8-2.07 0-2.86zM5.41 20L4 18.59l7.72-7.72 1.47 1.35L5.41 20z\"/>\n",
              "  </svg>\n",
              "      </button>\n",
              "      \n",
              "  <style>\n",
              "    .colab-df-container {\n",
              "      display:flex;\n",
              "      flex-wrap:wrap;\n",
              "      gap: 12px;\n",
              "    }\n",
              "\n",
              "    .colab-df-convert {\n",
              "      background-color: #E8F0FE;\n",
              "      border: none;\n",
              "      border-radius: 50%;\n",
              "      cursor: pointer;\n",
              "      display: none;\n",
              "      fill: #1967D2;\n",
              "      height: 32px;\n",
              "      padding: 0 0 0 0;\n",
              "      width: 32px;\n",
              "    }\n",
              "\n",
              "    .colab-df-convert:hover {\n",
              "      background-color: #E2EBFA;\n",
              "      box-shadow: 0px 1px 2px rgba(60, 64, 67, 0.3), 0px 1px 3px 1px rgba(60, 64, 67, 0.15);\n",
              "      fill: #174EA6;\n",
              "    }\n",
              "\n",
              "    [theme=dark] .colab-df-convert {\n",
              "      background-color: #3B4455;\n",
              "      fill: #D2E3FC;\n",
              "    }\n",
              "\n",
              "    [theme=dark] .colab-df-convert:hover {\n",
              "      background-color: #434B5C;\n",
              "      box-shadow: 0px 1px 3px 1px rgba(0, 0, 0, 0.15);\n",
              "      filter: drop-shadow(0px 1px 2px rgba(0, 0, 0, 0.3));\n",
              "      fill: #FFFFFF;\n",
              "    }\n",
              "  </style>\n",
              "\n",
              "      <script>\n",
              "        const buttonEl =\n",
              "          document.querySelector('#df-a7b4fed2-6c45-4d16-bcc4-0a463d86deca button.colab-df-convert');\n",
              "        buttonEl.style.display =\n",
              "          google.colab.kernel.accessAllowed ? 'block' : 'none';\n",
              "\n",
              "        async function convertToInteractive(key) {\n",
              "          const element = document.querySelector('#df-a7b4fed2-6c45-4d16-bcc4-0a463d86deca');\n",
              "          const dataTable =\n",
              "            await google.colab.kernel.invokeFunction('convertToInteractive',\n",
              "                                                     [key], {});\n",
              "          if (!dataTable) return;\n",
              "\n",
              "          const docLinkHtml = 'Like what you see? Visit the ' +\n",
              "            '<a target=\"_blank\" href=https://colab.research.google.com/notebooks/data_table.ipynb>data table notebook</a>'\n",
              "            + ' to learn more about interactive tables.';\n",
              "          element.innerHTML = '';\n",
              "          dataTable['output_type'] = 'display_data';\n",
              "          await google.colab.output.renderOutput(dataTable, element);\n",
              "          const docLink = document.createElement('div');\n",
              "          docLink.innerHTML = docLinkHtml;\n",
              "          element.appendChild(docLink);\n",
              "        }\n",
              "      </script>\n",
              "    </div>\n",
              "  </div>\n",
              "  "
            ]
          },
          "metadata": {},
          "execution_count": 5
        }
      ]
    },
    {
      "cell_type": "code",
      "source": [
        "train.shape"
      ],
      "metadata": {
        "colab": {
          "base_uri": "https://localhost:8080/"
        },
        "id": "MiBm3KThjghU",
        "outputId": "776a84ed-84b1-4eb3-8c27-93fb66d9ef4d"
      },
      "execution_count": null,
      "outputs": [
        {
          "output_type": "execute_result",
          "data": {
            "text/plain": [
              "(577, 24)"
            ]
          },
          "metadata": {},
          "execution_count": 6
        }
      ]
    },
    {
      "cell_type": "code",
      "source": [
        "train.describe()"
      ],
      "metadata": {
        "colab": {
          "base_uri": "https://localhost:8080/",
          "height": 300
        },
        "id": "-UT84GWujhej",
        "outputId": "f846e092-e78e-4681-c905-906e6538e0d6"
      },
      "execution_count": null,
      "outputs": [
        {
          "output_type": "execute_result",
          "data": {
            "text/plain": [
              "           Number       Total          HP      Attack     Defense      Sp_Atk  \\\n",
              "count  577.000000  577.000000  577.000000  577.000000  577.000000  577.000000   \n",
              "mean   365.173310  421.844021   68.736568   75.944541   71.135182   69.908146   \n",
              "std    207.850969  109.397402   25.911574   28.915893   29.712554   28.978504   \n",
              "min      3.000000  195.000000    1.000000    5.000000    5.000000   10.000000   \n",
              "25%    183.000000  325.000000   50.000000   55.000000   50.000000   47.000000   \n",
              "50%    366.000000  430.000000   65.000000   75.000000   67.000000   65.000000   \n",
              "75%    544.000000  500.000000   80.000000   95.000000   85.000000   90.000000   \n",
              "max    721.000000  720.000000  255.000000  160.000000  230.000000  154.000000   \n",
              "\n",
              "           Sp_Def       Speed  Generation     Pr_Male    Height_m   Weight_kg  \\\n",
              "count  577.000000  577.000000  577.000000  512.000000  577.000000  577.000000   \n",
              "mean    69.885615   66.233969    3.350087    0.553711    1.186118   60.791508   \n",
              "std     27.363692   27.183131    1.668375    0.199488    1.124625   95.910128   \n",
              "min     20.000000    5.000000    1.000000    0.000000    0.100000    0.100000   \n",
              "25%     50.000000   45.000000    2.000000    0.500000    0.610000    9.900000   \n",
              "50%     65.000000   65.000000    3.000000    0.500000    0.990000   29.500000   \n",
              "75%     85.000000   85.000000    5.000000    0.500000    1.500000   64.800000   \n",
              "max    230.000000  160.000000    6.000000    1.000000   14.500000  950.000000   \n",
              "\n",
              "       Catch_Rate     shuffle  \n",
              "count  577.000000  577.000000  \n",
              "mean    99.535529    0.492639  \n",
              "std     76.706891    0.282454  \n",
              "min      3.000000    0.000197  \n",
              "25%     45.000000    0.248779  \n",
              "50%     60.000000    0.487075  \n",
              "75%    180.000000    0.739929  \n",
              "max    255.000000    0.997422  "
            ],
            "text/html": [
              "\n",
              "  <div id=\"df-ef0c7a91-e96f-4c1f-b24d-0a877d59cd64\">\n",
              "    <div class=\"colab-df-container\">\n",
              "      <div>\n",
              "<style scoped>\n",
              "    .dataframe tbody tr th:only-of-type {\n",
              "        vertical-align: middle;\n",
              "    }\n",
              "\n",
              "    .dataframe tbody tr th {\n",
              "        vertical-align: top;\n",
              "    }\n",
              "\n",
              "    .dataframe thead th {\n",
              "        text-align: right;\n",
              "    }\n",
              "</style>\n",
              "<table border=\"1\" class=\"dataframe\">\n",
              "  <thead>\n",
              "    <tr style=\"text-align: right;\">\n",
              "      <th></th>\n",
              "      <th>Number</th>\n",
              "      <th>Total</th>\n",
              "      <th>HP</th>\n",
              "      <th>Attack</th>\n",
              "      <th>Defense</th>\n",
              "      <th>Sp_Atk</th>\n",
              "      <th>Sp_Def</th>\n",
              "      <th>Speed</th>\n",
              "      <th>Generation</th>\n",
              "      <th>Pr_Male</th>\n",
              "      <th>Height_m</th>\n",
              "      <th>Weight_kg</th>\n",
              "      <th>Catch_Rate</th>\n",
              "      <th>shuffle</th>\n",
              "    </tr>\n",
              "  </thead>\n",
              "  <tbody>\n",
              "    <tr>\n",
              "      <th>count</th>\n",
              "      <td>577.000000</td>\n",
              "      <td>577.000000</td>\n",
              "      <td>577.000000</td>\n",
              "      <td>577.000000</td>\n",
              "      <td>577.000000</td>\n",
              "      <td>577.000000</td>\n",
              "      <td>577.000000</td>\n",
              "      <td>577.000000</td>\n",
              "      <td>577.000000</td>\n",
              "      <td>512.000000</td>\n",
              "      <td>577.000000</td>\n",
              "      <td>577.000000</td>\n",
              "      <td>577.000000</td>\n",
              "      <td>577.000000</td>\n",
              "    </tr>\n",
              "    <tr>\n",
              "      <th>mean</th>\n",
              "      <td>365.173310</td>\n",
              "      <td>421.844021</td>\n",
              "      <td>68.736568</td>\n",
              "      <td>75.944541</td>\n",
              "      <td>71.135182</td>\n",
              "      <td>69.908146</td>\n",
              "      <td>69.885615</td>\n",
              "      <td>66.233969</td>\n",
              "      <td>3.350087</td>\n",
              "      <td>0.553711</td>\n",
              "      <td>1.186118</td>\n",
              "      <td>60.791508</td>\n",
              "      <td>99.535529</td>\n",
              "      <td>0.492639</td>\n",
              "    </tr>\n",
              "    <tr>\n",
              "      <th>std</th>\n",
              "      <td>207.850969</td>\n",
              "      <td>109.397402</td>\n",
              "      <td>25.911574</td>\n",
              "      <td>28.915893</td>\n",
              "      <td>29.712554</td>\n",
              "      <td>28.978504</td>\n",
              "      <td>27.363692</td>\n",
              "      <td>27.183131</td>\n",
              "      <td>1.668375</td>\n",
              "      <td>0.199488</td>\n",
              "      <td>1.124625</td>\n",
              "      <td>95.910128</td>\n",
              "      <td>76.706891</td>\n",
              "      <td>0.282454</td>\n",
              "    </tr>\n",
              "    <tr>\n",
              "      <th>min</th>\n",
              "      <td>3.000000</td>\n",
              "      <td>195.000000</td>\n",
              "      <td>1.000000</td>\n",
              "      <td>5.000000</td>\n",
              "      <td>5.000000</td>\n",
              "      <td>10.000000</td>\n",
              "      <td>20.000000</td>\n",
              "      <td>5.000000</td>\n",
              "      <td>1.000000</td>\n",
              "      <td>0.000000</td>\n",
              "      <td>0.100000</td>\n",
              "      <td>0.100000</td>\n",
              "      <td>3.000000</td>\n",
              "      <td>0.000197</td>\n",
              "    </tr>\n",
              "    <tr>\n",
              "      <th>25%</th>\n",
              "      <td>183.000000</td>\n",
              "      <td>325.000000</td>\n",
              "      <td>50.000000</td>\n",
              "      <td>55.000000</td>\n",
              "      <td>50.000000</td>\n",
              "      <td>47.000000</td>\n",
              "      <td>50.000000</td>\n",
              "      <td>45.000000</td>\n",
              "      <td>2.000000</td>\n",
              "      <td>0.500000</td>\n",
              "      <td>0.610000</td>\n",
              "      <td>9.900000</td>\n",
              "      <td>45.000000</td>\n",
              "      <td>0.248779</td>\n",
              "    </tr>\n",
              "    <tr>\n",
              "      <th>50%</th>\n",
              "      <td>366.000000</td>\n",
              "      <td>430.000000</td>\n",
              "      <td>65.000000</td>\n",
              "      <td>75.000000</td>\n",
              "      <td>67.000000</td>\n",
              "      <td>65.000000</td>\n",
              "      <td>65.000000</td>\n",
              "      <td>65.000000</td>\n",
              "      <td>3.000000</td>\n",
              "      <td>0.500000</td>\n",
              "      <td>0.990000</td>\n",
              "      <td>29.500000</td>\n",
              "      <td>60.000000</td>\n",
              "      <td>0.487075</td>\n",
              "    </tr>\n",
              "    <tr>\n",
              "      <th>75%</th>\n",
              "      <td>544.000000</td>\n",
              "      <td>500.000000</td>\n",
              "      <td>80.000000</td>\n",
              "      <td>95.000000</td>\n",
              "      <td>85.000000</td>\n",
              "      <td>90.000000</td>\n",
              "      <td>85.000000</td>\n",
              "      <td>85.000000</td>\n",
              "      <td>5.000000</td>\n",
              "      <td>0.500000</td>\n",
              "      <td>1.500000</td>\n",
              "      <td>64.800000</td>\n",
              "      <td>180.000000</td>\n",
              "      <td>0.739929</td>\n",
              "    </tr>\n",
              "    <tr>\n",
              "      <th>max</th>\n",
              "      <td>721.000000</td>\n",
              "      <td>720.000000</td>\n",
              "      <td>255.000000</td>\n",
              "      <td>160.000000</td>\n",
              "      <td>230.000000</td>\n",
              "      <td>154.000000</td>\n",
              "      <td>230.000000</td>\n",
              "      <td>160.000000</td>\n",
              "      <td>6.000000</td>\n",
              "      <td>1.000000</td>\n",
              "      <td>14.500000</td>\n",
              "      <td>950.000000</td>\n",
              "      <td>255.000000</td>\n",
              "      <td>0.997422</td>\n",
              "    </tr>\n",
              "  </tbody>\n",
              "</table>\n",
              "</div>\n",
              "      <button class=\"colab-df-convert\" onclick=\"convertToInteractive('df-ef0c7a91-e96f-4c1f-b24d-0a877d59cd64')\"\n",
              "              title=\"Convert this dataframe to an interactive table.\"\n",
              "              style=\"display:none;\">\n",
              "        \n",
              "  <svg xmlns=\"http://www.w3.org/2000/svg\" height=\"24px\"viewBox=\"0 0 24 24\"\n",
              "       width=\"24px\">\n",
              "    <path d=\"M0 0h24v24H0V0z\" fill=\"none\"/>\n",
              "    <path d=\"M18.56 5.44l.94 2.06.94-2.06 2.06-.94-2.06-.94-.94-2.06-.94 2.06-2.06.94zm-11 1L8.5 8.5l.94-2.06 2.06-.94-2.06-.94L8.5 2.5l-.94 2.06-2.06.94zm10 10l.94 2.06.94-2.06 2.06-.94-2.06-.94-.94-2.06-.94 2.06-2.06.94z\"/><path d=\"M17.41 7.96l-1.37-1.37c-.4-.4-.92-.59-1.43-.59-.52 0-1.04.2-1.43.59L10.3 9.45l-7.72 7.72c-.78.78-.78 2.05 0 2.83L4 21.41c.39.39.9.59 1.41.59.51 0 1.02-.2 1.41-.59l7.78-7.78 2.81-2.81c.8-.78.8-2.07 0-2.86zM5.41 20L4 18.59l7.72-7.72 1.47 1.35L5.41 20z\"/>\n",
              "  </svg>\n",
              "      </button>\n",
              "      \n",
              "  <style>\n",
              "    .colab-df-container {\n",
              "      display:flex;\n",
              "      flex-wrap:wrap;\n",
              "      gap: 12px;\n",
              "    }\n",
              "\n",
              "    .colab-df-convert {\n",
              "      background-color: #E8F0FE;\n",
              "      border: none;\n",
              "      border-radius: 50%;\n",
              "      cursor: pointer;\n",
              "      display: none;\n",
              "      fill: #1967D2;\n",
              "      height: 32px;\n",
              "      padding: 0 0 0 0;\n",
              "      width: 32px;\n",
              "    }\n",
              "\n",
              "    .colab-df-convert:hover {\n",
              "      background-color: #E2EBFA;\n",
              "      box-shadow: 0px 1px 2px rgba(60, 64, 67, 0.3), 0px 1px 3px 1px rgba(60, 64, 67, 0.15);\n",
              "      fill: #174EA6;\n",
              "    }\n",
              "\n",
              "    [theme=dark] .colab-df-convert {\n",
              "      background-color: #3B4455;\n",
              "      fill: #D2E3FC;\n",
              "    }\n",
              "\n",
              "    [theme=dark] .colab-df-convert:hover {\n",
              "      background-color: #434B5C;\n",
              "      box-shadow: 0px 1px 3px 1px rgba(0, 0, 0, 0.15);\n",
              "      filter: drop-shadow(0px 1px 2px rgba(0, 0, 0, 0.3));\n",
              "      fill: #FFFFFF;\n",
              "    }\n",
              "  </style>\n",
              "\n",
              "      <script>\n",
              "        const buttonEl =\n",
              "          document.querySelector('#df-ef0c7a91-e96f-4c1f-b24d-0a877d59cd64 button.colab-df-convert');\n",
              "        buttonEl.style.display =\n",
              "          google.colab.kernel.accessAllowed ? 'block' : 'none';\n",
              "\n",
              "        async function convertToInteractive(key) {\n",
              "          const element = document.querySelector('#df-ef0c7a91-e96f-4c1f-b24d-0a877d59cd64');\n",
              "          const dataTable =\n",
              "            await google.colab.kernel.invokeFunction('convertToInteractive',\n",
              "                                                     [key], {});\n",
              "          if (!dataTable) return;\n",
              "\n",
              "          const docLinkHtml = 'Like what you see? Visit the ' +\n",
              "            '<a target=\"_blank\" href=https://colab.research.google.com/notebooks/data_table.ipynb>data table notebook</a>'\n",
              "            + ' to learn more about interactive tables.';\n",
              "          element.innerHTML = '';\n",
              "          dataTable['output_type'] = 'display_data';\n",
              "          await google.colab.output.renderOutput(dataTable, element);\n",
              "          const docLink = document.createElement('div');\n",
              "          docLink.innerHTML = docLinkHtml;\n",
              "          element.appendChild(docLink);\n",
              "        }\n",
              "      </script>\n",
              "    </div>\n",
              "  </div>\n",
              "  "
            ]
          },
          "metadata": {},
          "execution_count": 7
        }
      ]
    },
    {
      "cell_type": "code",
      "source": [
        "# describe(include = ['O']) will show the descriptive statistics of object data types.\n",
        "train.describe(include=['O'])"
      ],
      "metadata": {
        "colab": {
          "base_uri": "https://localhost:8080/",
          "height": 175
        },
        "id": "a4m8XJwIj0TD",
        "outputId": "c871d10c-0e0d-4a5c-ae38-7ccc278b3338"
      },
      "execution_count": null,
      "outputs": [
        {
          "output_type": "execute_result",
          "data": {
            "text/plain": [
              "          Name Type_1  Type_2 Color Egg_Group_1 Egg_Group_2      Body_Style\n",
              "count      577    577     286   577         577         153             577\n",
              "unique     577     18      18    10          14          13              14\n",
              "top     Tyrunt  Water  Flying  Blue       Field      Dragon  bipedal_tailed\n",
              "freq         1     83      71   112         131          32             124"
            ],
            "text/html": [
              "\n",
              "  <div id=\"df-ee774a87-b287-4b77-92d3-784215d4d4ca\">\n",
              "    <div class=\"colab-df-container\">\n",
              "      <div>\n",
              "<style scoped>\n",
              "    .dataframe tbody tr th:only-of-type {\n",
              "        vertical-align: middle;\n",
              "    }\n",
              "\n",
              "    .dataframe tbody tr th {\n",
              "        vertical-align: top;\n",
              "    }\n",
              "\n",
              "    .dataframe thead th {\n",
              "        text-align: right;\n",
              "    }\n",
              "</style>\n",
              "<table border=\"1\" class=\"dataframe\">\n",
              "  <thead>\n",
              "    <tr style=\"text-align: right;\">\n",
              "      <th></th>\n",
              "      <th>Name</th>\n",
              "      <th>Type_1</th>\n",
              "      <th>Type_2</th>\n",
              "      <th>Color</th>\n",
              "      <th>Egg_Group_1</th>\n",
              "      <th>Egg_Group_2</th>\n",
              "      <th>Body_Style</th>\n",
              "    </tr>\n",
              "  </thead>\n",
              "  <tbody>\n",
              "    <tr>\n",
              "      <th>count</th>\n",
              "      <td>577</td>\n",
              "      <td>577</td>\n",
              "      <td>286</td>\n",
              "      <td>577</td>\n",
              "      <td>577</td>\n",
              "      <td>153</td>\n",
              "      <td>577</td>\n",
              "    </tr>\n",
              "    <tr>\n",
              "      <th>unique</th>\n",
              "      <td>577</td>\n",
              "      <td>18</td>\n",
              "      <td>18</td>\n",
              "      <td>10</td>\n",
              "      <td>14</td>\n",
              "      <td>13</td>\n",
              "      <td>14</td>\n",
              "    </tr>\n",
              "    <tr>\n",
              "      <th>top</th>\n",
              "      <td>Tyrunt</td>\n",
              "      <td>Water</td>\n",
              "      <td>Flying</td>\n",
              "      <td>Blue</td>\n",
              "      <td>Field</td>\n",
              "      <td>Dragon</td>\n",
              "      <td>bipedal_tailed</td>\n",
              "    </tr>\n",
              "    <tr>\n",
              "      <th>freq</th>\n",
              "      <td>1</td>\n",
              "      <td>83</td>\n",
              "      <td>71</td>\n",
              "      <td>112</td>\n",
              "      <td>131</td>\n",
              "      <td>32</td>\n",
              "      <td>124</td>\n",
              "    </tr>\n",
              "  </tbody>\n",
              "</table>\n",
              "</div>\n",
              "      <button class=\"colab-df-convert\" onclick=\"convertToInteractive('df-ee774a87-b287-4b77-92d3-784215d4d4ca')\"\n",
              "              title=\"Convert this dataframe to an interactive table.\"\n",
              "              style=\"display:none;\">\n",
              "        \n",
              "  <svg xmlns=\"http://www.w3.org/2000/svg\" height=\"24px\"viewBox=\"0 0 24 24\"\n",
              "       width=\"24px\">\n",
              "    <path d=\"M0 0h24v24H0V0z\" fill=\"none\"/>\n",
              "    <path d=\"M18.56 5.44l.94 2.06.94-2.06 2.06-.94-2.06-.94-.94-2.06-.94 2.06-2.06.94zm-11 1L8.5 8.5l.94-2.06 2.06-.94-2.06-.94L8.5 2.5l-.94 2.06-2.06.94zm10 10l.94 2.06.94-2.06 2.06-.94-2.06-.94-.94-2.06-.94 2.06-2.06.94z\"/><path d=\"M17.41 7.96l-1.37-1.37c-.4-.4-.92-.59-1.43-.59-.52 0-1.04.2-1.43.59L10.3 9.45l-7.72 7.72c-.78.78-.78 2.05 0 2.83L4 21.41c.39.39.9.59 1.41.59.51 0 1.02-.2 1.41-.59l7.78-7.78 2.81-2.81c.8-.78.8-2.07 0-2.86zM5.41 20L4 18.59l7.72-7.72 1.47 1.35L5.41 20z\"/>\n",
              "  </svg>\n",
              "      </button>\n",
              "      \n",
              "  <style>\n",
              "    .colab-df-container {\n",
              "      display:flex;\n",
              "      flex-wrap:wrap;\n",
              "      gap: 12px;\n",
              "    }\n",
              "\n",
              "    .colab-df-convert {\n",
              "      background-color: #E8F0FE;\n",
              "      border: none;\n",
              "      border-radius: 50%;\n",
              "      cursor: pointer;\n",
              "      display: none;\n",
              "      fill: #1967D2;\n",
              "      height: 32px;\n",
              "      padding: 0 0 0 0;\n",
              "      width: 32px;\n",
              "    }\n",
              "\n",
              "    .colab-df-convert:hover {\n",
              "      background-color: #E2EBFA;\n",
              "      box-shadow: 0px 1px 2px rgba(60, 64, 67, 0.3), 0px 1px 3px 1px rgba(60, 64, 67, 0.15);\n",
              "      fill: #174EA6;\n",
              "    }\n",
              "\n",
              "    [theme=dark] .colab-df-convert {\n",
              "      background-color: #3B4455;\n",
              "      fill: #D2E3FC;\n",
              "    }\n",
              "\n",
              "    [theme=dark] .colab-df-convert:hover {\n",
              "      background-color: #434B5C;\n",
              "      box-shadow: 0px 1px 3px 1px rgba(0, 0, 0, 0.15);\n",
              "      filter: drop-shadow(0px 1px 2px rgba(0, 0, 0, 0.3));\n",
              "      fill: #FFFFFF;\n",
              "    }\n",
              "  </style>\n",
              "\n",
              "      <script>\n",
              "        const buttonEl =\n",
              "          document.querySelector('#df-ee774a87-b287-4b77-92d3-784215d4d4ca button.colab-df-convert');\n",
              "        buttonEl.style.display =\n",
              "          google.colab.kernel.accessAllowed ? 'block' : 'none';\n",
              "\n",
              "        async function convertToInteractive(key) {\n",
              "          const element = document.querySelector('#df-ee774a87-b287-4b77-92d3-784215d4d4ca');\n",
              "          const dataTable =\n",
              "            await google.colab.kernel.invokeFunction('convertToInteractive',\n",
              "                                                     [key], {});\n",
              "          if (!dataTable) return;\n",
              "\n",
              "          const docLinkHtml = 'Like what you see? Visit the ' +\n",
              "            '<a target=\"_blank\" href=https://colab.research.google.com/notebooks/data_table.ipynb>data table notebook</a>'\n",
              "            + ' to learn more about interactive tables.';\n",
              "          element.innerHTML = '';\n",
              "          dataTable['output_type'] = 'display_data';\n",
              "          await google.colab.output.renderOutput(dataTable, element);\n",
              "          const docLink = document.createElement('div');\n",
              "          docLink.innerHTML = docLinkHtml;\n",
              "          element.appendChild(docLink);\n",
              "        }\n",
              "      </script>\n",
              "    </div>\n",
              "  </div>\n",
              "  "
            ]
          },
          "metadata": {},
          "execution_count": 8
        }
      ]
    },
    {
      "cell_type": "code",
      "source": [
        "# check for missing values\n",
        "sns.heatmap(train.isnull(),yticklabels=False,cbar=False,cmap='viridis')"
      ],
      "metadata": {
        "colab": {
          "base_uri": "https://localhost:8080/",
          "height": 364
        },
        "id": "SrPUTtCEj2Jr",
        "outputId": "3e250ab5-5ed1-464b-cbe3-f0a16a5242d4"
      },
      "execution_count": null,
      "outputs": [
        {
          "output_type": "execute_result",
          "data": {
            "text/plain": [
              "<matplotlib.axes._subplots.AxesSubplot at 0x7feb4f4fc890>"
            ]
          },
          "metadata": {},
          "execution_count": 9
        },
        {
          "output_type": "display_data",
          "data": {
            "text/plain": [
              "<Figure size 432x288 with 1 Axes>"
            ],
            "image/png": "[encoded data removed]"
          },
          "metadata": {
            "needs_background": "light"
          }
        }
      ]
    },
    {
      "cell_type": "code",
      "source": [
        "def fill_type_2(cols):\n",
        "    type_2 = cols[0]\n",
        "    if pd.isnull(type_2):\n",
        "        return \"None\"\n",
        "    else:\n",
        "        return type_2"
      ],
      "metadata": {
        "id": "qVbobcuyj5QF"
      },
      "execution_count": null,
      "outputs": []
    },
    {
      "cell_type": "code",
      "source": [
        "train['Type_2'] = train[['Type_2']].apply(fill_type_2,axis=1)"
      ],
      "metadata": {
        "id": "7zRcP3d8j7hG"
      },
      "execution_count": null,
      "outputs": []
    },
    {
      "cell_type": "code",
      "source": [
        "train.drop(columns=['Egg_Group_2'], inplace=True)"
      ],
      "metadata": {
        "id": "sFJnbcOoj8ya"
      },
      "execution_count": null,
      "outputs": []
    },
    {
      "cell_type": "code",
      "source": [
        "sns.heatmap(train.isnull(),yticklabels=False,cbar=False,cmap='viridis')"
      ],
      "metadata": {
        "colab": {
          "base_uri": "https://localhost:8080/",
          "height": 364
        },
        "id": "V36vxLhIj-J4",
        "outputId": "18ea9b31-6558-4f53-9786-9cefe0267c77"
      },
      "execution_count": null,
      "outputs": [
        {
          "output_type": "execute_result",
          "data": {
            "text/plain": [
              "<matplotlib.axes._subplots.AxesSubplot at 0x7feb4c6fe5d0>"
            ]
          },
          "metadata": {},
          "execution_count": 13
        },
        {
          "output_type": "display_data",
          "data": {
            "text/plain": [
              "<Figure size 432x288 with 1 Axes>"
            ],
            "image/png": "[encoded data removed]"
          },
          "metadata": {
            "needs_background": "light"
          }
        }
      ]
    },
    {
      "cell_type": "code",
      "source": [
        "legendary = train[train['isLegendary'] == 1]\n",
        "not_legendary = train[train['isLegendary'] == 0]\n",
        "\n",
        "print(\"Legendary: %i (%.1f%%)\"%(len(legendary), float(len(legendary))/len(train)*100.0))\n",
        "print(\"Not Legendary: %i (%.1f%%)\"%(len(not_legendary), float(len(not_legendary))/len(train)*100.0))\n",
        "print(\"Total: %i\"%len(train))"
      ],
      "metadata": {
        "colab": {
          "base_uri": "https://localhost:8080/"
        },
        "id": "pRSWT_SrkCQF",
        "outputId": "dfffeea2-fb74-4da1-e505-cf77d6ef0690"
      },
      "execution_count": null,
      "outputs": [
        {
          "output_type": "stream",
          "name": "stdout",
          "text": [
            "Legendary: 41 (7.1%)\n",
            "Not Legendary: 536 (92.9%)\n",
            "Total: 577\n"
          ]
        }
      ]
    },
    {
      "cell_type": "code",
      "source": [
        "train.columns"
      ],
      "metadata": {
        "colab": {
          "base_uri": "https://localhost:8080/"
        },
        "id": "yuZ3xTPGkDcx",
        "outputId": "a704e9b9-5567-4505-ffa6-d725213acaf2"
      },
      "execution_count": null,
      "outputs": [
        {
          "output_type": "execute_result",
          "data": {
            "text/plain": [
              "Index(['Number', 'Name', 'Type_1', 'Type_2', 'Total', 'HP', 'Attack',\n",
              "       'Defense', 'Sp_Atk', 'Sp_Def', 'Speed', 'Generation', 'isLegendary',\n",
              "       'Color', 'hasGender', 'Pr_Male', 'Egg_Group_1', 'hasMegaEvolution',\n",
              "       'Height_m', 'Weight_kg', 'Catch_Rate', 'Body_Style', 'shuffle'],\n",
              "      dtype='object')"
            ]
          },
          "metadata": {},
          "execution_count": 15
        }
      ]
    },
    {
      "cell_type": "code",
      "source": [
        "plt.figure(figsize=(25,10))\n",
        "train2 = train.drop(['Number','Name','hasGender','shuffle'], axis=1)\n",
        "sns.heatmap(train2.corr(), vmin= -1, vmax=1, square=True, annot=True)"
      ],
      "metadata": {
        "colab": {
          "base_uri": "https://localhost:8080/",
          "height": 694
        },
        "id": "NPZNGAhTkEkL",
        "outputId": "3a9e3b34-2b4a-44c9-8a2c-d19b4d38c03e"
      },
      "execution_count": null,
      "outputs": [
        {
          "output_type": "execute_result",
          "data": {
            "text/plain": [
              "<matplotlib.axes._subplots.AxesSubplot at 0x7feb4c68b990>"
            ]
          },
          "metadata": {},
          "execution_count": 16
        },
        {
          "output_type": "display_data",
          "data": {
            "text/plain": [
              "<Figure size 1800x720 with 2 Axes>"
            ],
            "image/png": "[encoded data removed]"
          },
          "metadata": {
            "needs_background": "light"
          }
        }
      ]
    },
    {
      "cell_type": "code",
      "source": [
        "#boxplot of Attack vs. Legendary\n",
        "plt.figure(figsize=(8, 4))\n",
        "sns.boxplot(x='isLegendary',y='Attack',data=train, palette='rainbow')\n",
        "\n",
        "#stripplot of Attack vs. Legendary\n",
        "plt.figure(figsize=(15, 4))\n",
        "sns.stripplot(x='Type_1',y='Total',data=train, jitter=True,hue='isLegendary',palette=['r','b'],dodge=False).set_title('Type_1 Distribution on Legendary')\n",
        "\n",
        "#stripplot of Attack vs. Legendary\n",
        "plt.figure(figsize=(15, 4))\n",
        "sns.stripplot(x='Type_2',y='Total',data=train, jitter=True,hue='isLegendary',palette=['r','b'],dodge=False).set_title('Type_2 Distribution on Legendary')"
      ],
      "metadata": {
        "colab": {
          "base_uri": "https://localhost:8080/",
          "height": 854
        },
        "id": "DxEWTl4KkGKk",
        "outputId": "24b32d1a-c5a3-4316-f055-e7ba48154f4b"
      },
      "execution_count": null,
      "outputs": [
        {
          "output_type": "execute_result",
          "data": {
            "text/plain": [
              "Text(0.5, 1.0, 'Type_2 Distribution on Legendary')"
            ]
          },
          "metadata": {},
          "execution_count": 17
        },
        {
          "output_type": "display_data",
          "data": {
            "text/plain": [
              "<Figure size 576x288 with 1 Axes>"
            ],
            "image/png": "[encoded data removed]"
          },
          "metadata": {
            "needs_background": "light"
          }
        },
        {
          "output_type": "display_data",
          "data": {
            "text/plain": [
              "<Figure size 1080x288 with 1 Axes>"
            ],
            "image/png": "[encoded data removed]"
          },
          "metadata": {
            "needs_background": "light"
          }
        },
        {
          "output_type": "display_data",
          "data": {
            "text/plain": [
              "<Figure size 1080x288 with 1 Axes>"
            ],
            "image/png": "[encoded data removed]"
          },
          "metadata": {
            "needs_background": "light"
          }
        }
      ]
    },
    {
      "cell_type": "code",
      "source": [
        "type_1 = train[['Type_1','isLegendary']].groupby(['Type_1'], as_index=False).mean().set_index('Type_1')\n",
        "type_1.sort_values(by='isLegendary',ascending=False).plot(kind='bar')"
      ],
      "metadata": {
        "colab": {
          "base_uri": "https://localhost:8080/",
          "height": 331
        },
        "id": "ls3a1xtVkH43",
        "outputId": "206cdead-e936-45a8-ff3d-127255f81768"
      },
      "execution_count": null,
      "outputs": [
        {
          "output_type": "execute_result",
          "data": {
            "text/plain": [
              "<matplotlib.axes._subplots.AxesSubplot at 0x7feb4a96fa10>"
            ]
          },
          "metadata": {},
          "execution_count": 18
        },
        {
          "output_type": "display_data",
          "data": {
            "text/plain": [
              "<Figure size 432x288 with 1 Axes>"
            ],
            "image/png": "[encoded data removed]"
          },
          "metadata": {
            "needs_background": "light"
          }
        }
      ]
    },
    {
      "cell_type": "code",
      "source": [
        "type_2 = train[['Type_2','isLegendary']].groupby(['Type_2'], as_index=False).mean().set_index('Type_2')\n",
        "type_2.sort_values(by='isLegendary',ascending=False).plot(kind='bar')"
      ],
      "metadata": {
        "colab": {
          "base_uri": "https://localhost:8080/",
          "height": 331
        },
        "id": "daGKCATykQAT",
        "outputId": "b48e4fb1-ddf4-41c3-f3aa-ad532282e9f6"
      },
      "execution_count": null,
      "outputs": [
        {
          "output_type": "execute_result",
          "data": {
            "text/plain": [
              "<matplotlib.axes._subplots.AxesSubplot at 0x7feb4a83ac10>"
            ]
          },
          "metadata": {},
          "execution_count": 19
        },
        {
          "output_type": "display_data",
          "data": {
            "text/plain": [
              "<Figure size 432x288 with 1 Axes>"
            ],
            "image/png": "[encoded data removed]"
          },
          "metadata": {
            "needs_background": "light"
          }
        }
      ]
    },
    {
      "cell_type": "code",
      "source": [
        "train_test_data = [train, test]"
      ],
      "metadata": {
        "id": "0q0a0b6TkRND"
      },
      "execution_count": null,
      "outputs": []
    },
    {
      "cell_type": "code",
      "source": [
        "for dataset in train_test_data:\n",
        "    dataset['isLegendary'] = dataset['isLegendary'].map({True: 1, False: 0}).astype(int)"
      ],
      "metadata": {
        "id": "w4n4l9fakW4k"
      },
      "execution_count": null,
      "outputs": []
    },
    {
      "cell_type": "code",
      "source": [
        "type_1.sort_values(by='isLegendary',ascending=False)"
      ],
      "metadata": {
        "colab": {
          "base_uri": "https://localhost:8080/",
          "height": 645
        },
        "id": "P4_tnSR-kXui",
        "outputId": "ce2dab9b-b8e3-4182-ae10-2566160731b3"
      },
      "execution_count": null,
      "outputs": [
        {
          "output_type": "execute_result",
          "data": {
            "text/plain": [
              "          isLegendary\n",
              "Type_1               \n",
              "Flying       0.333333\n",
              "Dragon       0.285714\n",
              "Psychic      0.184211\n",
              "Steel        0.166667\n",
              "Fire         0.147059\n",
              "Electric     0.096774\n",
              "Ground       0.095238\n",
              "Ice          0.095238\n",
              "Fairy        0.062500\n",
              "Ghost        0.055556\n",
              "Rock         0.054054\n",
              "Dark         0.043478\n",
              "Grass        0.037736\n",
              "Water        0.036145\n",
              "Normal       0.027027\n",
              "Poison       0.000000\n",
              "Fighting     0.000000\n",
              "Bug          0.000000"
            ],
            "text/html": [
              "\n",
              "  <div id=\"df-8dc62cab-3eb8-4e21-890b-96400c803dd4\">\n",
              "    <div class=\"colab-df-container\">\n",
              "      <div>\n",
              "<style scoped>\n",
              "    .dataframe tbody tr th:only-of-type {\n",
              "        vertical-align: middle;\n",
              "    }\n",
              "\n",
              "    .dataframe tbody tr th {\n",
              "        vertical-align: top;\n",
              "    }\n",
              "\n",
              "    .dataframe thead th {\n",
              "        text-align: right;\n",
              "    }\n",
              "</style>\n",
              "<table border=\"1\" class=\"dataframe\">\n",
              "  <thead>\n",
              "    <tr style=\"text-align: right;\">\n",
              "      <th></th>\n",
              "      <th>isLegendary</th>\n",
              "    </tr>\n",
              "    <tr>\n",
              "      <th>Type_1</th>\n",
              "      <th></th>\n",
              "    </tr>\n",
              "  </thead>\n",
              "  <tbody>\n",
              "    <tr>\n",
              "      <th>Flying</th>\n",
              "      <td>0.333333</td>\n",
              "    </tr>\n",
              "    <tr>\n",
              "      <th>Dragon</th>\n",
              "      <td>0.285714</td>\n",
              "    </tr>\n",
              "    <tr>\n",
              "      <th>Psychic</th>\n",
              "      <td>0.184211</td>\n",
              "    </tr>\n",
              "    <tr>\n",
              "      <th>Steel</th>\n",
              "      <td>0.166667</td>\n",
              "    </tr>\n",
              "    <tr>\n",
              "      <th>Fire</th>\n",
              "      <td>0.147059</td>\n",
              "    </tr>\n",
              "    <tr>\n",
              "      <th>Electric</th>\n",
              "      <td>0.096774</td>\n",
              "    </tr>\n",
              "    <tr>\n",
              "      <th>Ground</th>\n",
              "      <td>0.095238</td>\n",
              "    </tr>\n",
              "    <tr>\n",
              "      <th>Ice</th>\n",
              "      <td>0.095238</td>\n",
              "    </tr>\n",
              "    <tr>\n",
              "      <th>Fairy</th>\n",
              "      <td>0.062500</td>\n",
              "    </tr>\n",
              "    <tr>\n",
              "      <th>Ghost</th>\n",
              "      <td>0.055556</td>\n",
              "    </tr>\n",
              "    <tr>\n",
              "      <th>Rock</th>\n",
              "      <td>0.054054</td>\n",
              "    </tr>\n",
              "    <tr>\n",
              "      <th>Dark</th>\n",
              "      <td>0.043478</td>\n",
              "    </tr>\n",
              "    <tr>\n",
              "      <th>Grass</th>\n",
              "      <td>0.037736</td>\n",
              "    </tr>\n",
              "    <tr>\n",
              "      <th>Water</th>\n",
              "      <td>0.036145</td>\n",
              "    </tr>\n",
              "    <tr>\n",
              "      <th>Normal</th>\n",
              "      <td>0.027027</td>\n",
              "    </tr>\n",
              "    <tr>\n",
              "      <th>Poison</th>\n",
              "      <td>0.000000</td>\n",
              "    </tr>\n",
              "    <tr>\n",
              "      <th>Fighting</th>\n",
              "      <td>0.000000</td>\n",
              "    </tr>\n",
              "    <tr>\n",
              "      <th>Bug</th>\n",
              "      <td>0.000000</td>\n",
              "    </tr>\n",
              "  </tbody>\n",
              "</table>\n",
              "</div>\n",
              "      <button class=\"colab-df-convert\" onclick=\"convertToInteractive('df-8dc62cab-3eb8-4e21-890b-96400c803dd4')\"\n",
              "              title=\"Convert this dataframe to an interactive table.\"\n",
              "              style=\"display:none;\">\n",
              "        \n",
              "  <svg xmlns=\"http://www.w3.org/2000/svg\" height=\"24px\"viewBox=\"0 0 24 24\"\n",
              "       width=\"24px\">\n",
              "    <path d=\"M0 0h24v24H0V0z\" fill=\"none\"/>\n",
              "    <path d=\"M18.56 5.44l.94 2.06.94-2.06 2.06-.94-2.06-.94-.94-2.06-.94 2.06-2.06.94zm-11 1L8.5 8.5l.94-2.06 2.06-.94-2.06-.94L8.5 2.5l-.94 2.06-2.06.94zm10 10l.94 2.06.94-2.06 2.06-.94-2.06-.94-.94-2.06-.94 2.06-2.06.94z\"/><path d=\"M17.41 7.96l-1.37-1.37c-.4-.4-.92-.59-1.43-.59-.52 0-1.04.2-1.43.59L10.3 9.45l-7.72 7.72c-.78.78-.78 2.05 0 2.83L4 21.41c.39.39.9.59 1.41.59.51 0 1.02-.2 1.41-.59l7.78-7.78 2.81-2.81c.8-.78.8-2.07 0-2.86zM5.41 20L4 18.59l7.72-7.72 1.47 1.35L5.41 20z\"/>\n",
              "  </svg>\n",
              "      </button>\n",
              "      \n",
              "  <style>\n",
              "    .colab-df-container {\n",
              "      display:flex;\n",
              "      flex-wrap:wrap;\n",
              "      gap: 12px;\n",
              "    }\n",
              "\n",
              "    .colab-df-convert {\n",
              "      background-color: #E8F0FE;\n",
              "      border: none;\n",
              "      border-radius: 50%;\n",
              "      cursor: pointer;\n",
              "      display: none;\n",
              "      fill: #1967D2;\n",
              "      height: 32px;\n",
              "      padding: 0 0 0 0;\n",
              "      width: 32px;\n",
              "    }\n",
              "\n",
              "    .colab-df-convert:hover {\n",
              "      background-color: #E2EBFA;\n",
              "      box-shadow: 0px 1px 2px rgba(60, 64, 67, 0.3), 0px 1px 3px 1px rgba(60, 64, 67, 0.15);\n",
              "      fill: #174EA6;\n",
              "    }\n",
              "\n",
              "    [theme=dark] .colab-df-convert {\n",
              "      background-color: #3B4455;\n",
              "      fill: #D2E3FC;\n",
              "    }\n",
              "\n",
              "    [theme=dark] .colab-df-convert:hover {\n",
              "      background-color: #434B5C;\n",
              "      box-shadow: 0px 1px 3px 1px rgba(0, 0, 0, 0.15);\n",
              "      filter: drop-shadow(0px 1px 2px rgba(0, 0, 0, 0.3));\n",
              "      fill: #FFFFFF;\n",
              "    }\n",
              "  </style>\n",
              "\n",
              "      <script>\n",
              "        const buttonEl =\n",
              "          document.querySelector('#df-8dc62cab-3eb8-4e21-890b-96400c803dd4 button.colab-df-convert');\n",
              "        buttonEl.style.display =\n",
              "          google.colab.kernel.accessAllowed ? 'block' : 'none';\n",
              "\n",
              "        async function convertToInteractive(key) {\n",
              "          const element = document.querySelector('#df-8dc62cab-3eb8-4e21-890b-96400c803dd4');\n",
              "          const dataTable =\n",
              "            await google.colab.kernel.invokeFunction('convertToInteractive',\n",
              "                                                     [key], {});\n",
              "          if (!dataTable) return;\n",
              "\n",
              "          const docLinkHtml = 'Like what you see? Visit the ' +\n",
              "            '<a target=\"_blank\" href=https://colab.research.google.com/notebooks/data_table.ipynb>data table notebook</a>'\n",
              "            + ' to learn more about interactive tables.';\n",
              "          element.innerHTML = '';\n",
              "          dataTable['output_type'] = 'display_data';\n",
              "          await google.colab.output.renderOutput(dataTable, element);\n",
              "          const docLink = document.createElement('div');\n",
              "          docLink.innerHTML = docLinkHtml;\n",
              "          element.appendChild(docLink);\n",
              "        }\n",
              "      </script>\n",
              "    </div>\n",
              "  </div>\n",
              "  "
            ]
          },
          "metadata": {},
          "execution_count": 22
        }
      ]
    },
    {
      "cell_type": "code",
      "source": [
        "type_1_mapping = {\"Fire\": 1, \"Dragon\": 2, \"Electric\": 3, \"Fighting\": 4, \"Ice\": 5, \"Flying\": 6, \"Water\": 7, \"Ghost\": 8, \"Steel\": 9, \"None\": 10, \"Fairy\": 11, \"Psychic\": 12, \"Ground\": 13, \"Rock\": 14, \"Bug\": 15, \"Poison\": 16, \"Normal\": 17, \"Dark\": 18, \"Grass\": 19}\n",
        "for dataset in train_test_data:\n",
        "    dataset['Type_1'] = dataset['Type_1'].map(type_1_mapping)\n",
        "    dataset['Type_1'] = dataset['Type_1'].fillna(0)"
      ],
      "metadata": {
        "id": "iDpnrop3kZMN"
      },
      "execution_count": null,
      "outputs": []
    },
    {
      "cell_type": "code",
      "source": [
        "type_2_mapping = {\"Fire\": 1, \"Dragon\": 2, \"Electric\": 3, \"Fighting\": 4, \"Ice\": 5, \"Flying\": 6, \"Water\": 7, \"Ghost\": 8, \"Steel\": 9, \"None\": 10, \"Fairy\": 11, \"Psychic\": 12, \"Ground\": 13, \"Rock\": 14, \"Bug\": 15, \"Poison\": 16, \"Normal\": 17, \"Dark\": 18, \"Grass\": 19}\n",
        "for dataset in train_test_data:\n",
        "    dataset['Type_2'] = dataset['Type_2'].map(type_2_mapping)\n",
        "    dataset['Type_2'] = dataset['Type_2'].fillna(0)"
      ],
      "metadata": {
        "id": "zHPymyh4kaMF"
      },
      "execution_count": null,
      "outputs": []
    },
    {
      "cell_type": "code",
      "source": [
        "for dataset in train_test_data:\n",
        "    pr_male_avg = dataset['Pr_Male'].mean()\n",
        "    pr_male_std = dataset['Pr_Male'].std()\n",
        "    pr_male_null_count = dataset['Pr_Male'].isnull().sum()\n",
        "    \n",
        "    pr_male_null_random_list = np.random.uniform(pr_male_avg - pr_male_std, pr_male_avg + pr_male_std, pr_male_null_count)\n",
        "    dataset['Pr_Male'][np.isnan(dataset['Pr_Male'])] = pr_male_null_random_list\n",
        "    dataset['Pr_Male'] = dataset['Pr_Male'].astype(int)\n",
        "    \n",
        "train['Pr_Male_Band'] = pd.cut(train['Pr_Male'], 5)\n",
        "\n",
        "print(train[['Pr_Male_Band', 'isLegendary']].groupby(['Pr_Male_Band'], as_index=False).mean())"
      ],
      "metadata": {
        "colab": {
          "base_uri": "https://localhost:8080/"
        },
        "id": "v-DXoinbkbZw",
        "outputId": "0609464d-b5f1-4b1b-c1b9-1ad9cd081c4c"
      },
      "execution_count": null,
      "outputs": [
        {
          "output_type": "stream",
          "name": "stdout",
          "text": [
            "    Pr_Male_Band  isLegendary\n",
            "0  (-0.001, 0.2]     0.065954\n",
            "1     (0.2, 0.4]          NaN\n",
            "2     (0.4, 0.6]          NaN\n",
            "3     (0.6, 0.8]          NaN\n",
            "4     (0.8, 1.0]     0.250000\n"
          ]
        },
        {
          "output_type": "stream",
          "name": "stderr",
          "text": [
            "/usr/local/lib/python3.7/dist-packages/ipykernel_launcher.py:7: SettingWithCopyWarning: \n",
            "A value is trying to be set on a copy of a slice from a DataFrame\n",
            "\n",
            "See the caveats in the documentation: https://pandas.pydata.org/pandas-docs/stable/user_guide/indexing.html#returning-a-view-versus-a-copy\n",
            "  import sys\n"
          ]
        }
      ]
    },
    {
      "cell_type": "code",
      "source": [
        "for dataset in train_test_data:\n",
        "    dataset.loc[ dataset['Pr_Male'] <= 0.2, 'Pr_Male'] = 0\n",
        "    dataset.loc[(dataset['Pr_Male'] > 0.2) & (dataset['Pr_Male'] <= 0.4), 'Pr_Male'] = 1\n",
        "    dataset.loc[(dataset['Pr_Male'] > 0.4) & (dataset['Pr_Male'] <= 0.6), 'Pr_Male'] = 2\n",
        "    dataset.loc[(dataset['Pr_Male'] > 0.6) & (dataset['Pr_Male'] <= 0.8), 'Pr_Male'] = 3\n",
        "    dataset.loc[ dataset['Pr_Male'] >= 1, 'Pr_Male'] = 4"
      ],
      "metadata": {
        "id": "JRFiyYChkdQF"
      },
      "execution_count": null,
      "outputs": []
    },
    {
      "cell_type": "code",
      "source": [
        "for dataset in train_test_data:\n",
        "    attack_avg = dataset['Attack'].mean()\n",
        "    attack_std = dataset['Attack'].std()\n",
        "    attack_null_count = dataset['Attack'].isnull().sum()\n",
        "    \n",
        "    attack_null_random_list = np.random.randint(attack_avg - attack_std, attack_avg + attack_std, attack_null_count)\n",
        "    dataset['Attack'][np.isnan(dataset['Attack'])] = attack_null_random_list\n",
        "    dataset['Attack'] = dataset['Attack'].astype(int)\n",
        "    \n",
        "train['Attack_Band'] = pd.cut(train['Attack'], 5)\n",
        "\n",
        "print(train[['Attack_Band', 'isLegendary']].groupby(['Attack_Band'], as_index=False).mean())"
      ],
      "metadata": {
        "colab": {
          "base_uri": "https://localhost:8080/"
        },
        "id": "hfg8k5B4keNi",
        "outputId": "a5b6419d-7ef8-41be-8e2a-794b646a811d"
      },
      "execution_count": null,
      "outputs": [
        {
          "output_type": "stream",
          "name": "stdout",
          "text": [
            "      Attack_Band  isLegendary\n",
            "0   (4.845, 36.0]     0.000000\n",
            "1    (36.0, 67.0]     0.005000\n",
            "2    (67.0, 98.0]     0.050505\n",
            "3   (98.0, 129.0]     0.196262\n",
            "4  (129.0, 160.0]     0.321429\n"
          ]
        },
        {
          "output_type": "stream",
          "name": "stderr",
          "text": [
            "/usr/local/lib/python3.7/dist-packages/ipykernel_launcher.py:7: SettingWithCopyWarning: \n",
            "A value is trying to be set on a copy of a slice from a DataFrame\n",
            "\n",
            "See the caveats in the documentation: https://pandas.pydata.org/pandas-docs/stable/user_guide/indexing.html#returning-a-view-versus-a-copy\n",
            "  import sys\n"
          ]
        }
      ]
    },
    {
      "cell_type": "code",
      "source": [
        "for dataset in train_test_data:\n",
        "    dataset.loc[ dataset['Attack'] <= 36, 'Attack'] = 0\n",
        "    dataset.loc[(dataset['Attack'] > 36) & (dataset['Attack'] <= 67), 'Attack'] = 1\n",
        "    dataset.loc[(dataset['Attack'] > 67) & (dataset['Attack'] <= 98), 'Attack'] = 2\n",
        "    dataset.loc[(dataset['Attack'] > 98) & (dataset['Attack'] <= 129), 'Attack'] = 3\n",
        "    dataset.loc[ dataset['Attack'] >= 129, 'Attack'] = 4"
      ],
      "metadata": {
        "id": "e-6Flh7vkfjM"
      },
      "execution_count": null,
      "outputs": []
    },
    {
      "cell_type": "code",
      "source": [
        "for dataset in train_test_data:\n",
        "    defense_avg = dataset['Defense'].mean()\n",
        "    defense_std = dataset['Defense'].std()\n",
        "    defense_null_count = dataset['Defense'].isnull().sum()\n",
        "    \n",
        "    defense_null_random_list = np.random.randint(defense_avg - defense_std, defense_avg + defense_std, defense_null_count)\n",
        "    dataset['Defense'][np.isnan(dataset['Defense'])] = defense_null_random_list\n",
        "    dataset['Defense'] = dataset['Defense'].astype(int)\n",
        "    \n",
        "train['Defense_Band'] = pd.cut(train['Defense'], 5)\n",
        "\n",
        "print(train[['Defense_Band', 'isLegendary']].groupby(['Defense_Band'], as_index=False).mean())"
      ],
      "metadata": {
        "colab": {
          "base_uri": "https://localhost:8080/"
        },
        "id": "MXlEcWBakg2a",
        "outputId": "c2a89d01-1028-4808-a7b5-2ffe28e6b656"
      },
      "execution_count": null,
      "outputs": [
        {
          "output_type": "stream",
          "name": "stdout",
          "text": [
            "     Defense_Band  isLegendary\n",
            "0   (4.775, 50.0]     0.006061\n",
            "1    (50.0, 95.0]     0.056604\n",
            "2   (95.0, 140.0]     0.234568\n",
            "3  (140.0, 185.0]     0.200000\n",
            "4  (185.0, 230.0]     0.333333\n"
          ]
        },
        {
          "output_type": "stream",
          "name": "stderr",
          "text": [
            "/usr/local/lib/python3.7/dist-packages/ipykernel_launcher.py:7: SettingWithCopyWarning: \n",
            "A value is trying to be set on a copy of a slice from a DataFrame\n",
            "\n",
            "See the caveats in the documentation: https://pandas.pydata.org/pandas-docs/stable/user_guide/indexing.html#returning-a-view-versus-a-copy\n",
            "  import sys\n"
          ]
        }
      ]
    },
    {
      "cell_type": "code",
      "source": [
        "for dataset in train_test_data:\n",
        "    dataset.loc[ dataset['Defense'] <= 50, 'Defense'] = 0\n",
        "    dataset.loc[(dataset['Defense'] > 50) & (dataset['Defense'] <= 95), 'Defense'] = 1\n",
        "    dataset.loc[(dataset['Defense'] > 95) & (dataset['Defense'] <= 140), 'Defense'] = 2\n",
        "    dataset.loc[(dataset['Defense'] > 140) & (dataset['Defense'] <= 230), 'Defense'] = 3\n",
        "    dataset.loc[ dataset['Defense'] >= 230, 'Defense'] = 4"
      ],
      "metadata": {
        "id": "ty8yCo5JkibK"
      },
      "execution_count": null,
      "outputs": []
    },
    {
      "cell_type": "code",
      "source": [
        "for dataset in train_test_data:\n",
        "    cr_avg = dataset['Catch_Rate'].mean()\n",
        "    cr_std = dataset['Catch_Rate'].std()\n",
        "    cr_null_count = dataset['Catch_Rate'].isnull().sum()\n",
        "    \n",
        "    cr_null_random_list = np.random.randint(cr_avg - cr_std, cr_avg + cr_std, cr_null_count)\n",
        "    dataset['Catch_Rate'][np.isnan(dataset['Catch_Rate'])] = cr_null_random_list\n",
        "    dataset['Catch_Rate'] = dataset['Catch_Rate'].astype(int)\n",
        "    \n",
        "train['Catch_Rate_Band'] = pd.cut(train['Catch_Rate'], 5)\n",
        "\n",
        "print(train[['Catch_Rate_Band', 'isLegendary']].groupby(['Catch_Rate_Band'], as_index=False).mean())"
      ],
      "metadata": {
        "colab": {
          "base_uri": "https://localhost:8080/"
        },
        "id": "7HdOUobgkjpi",
        "outputId": "279a1382-3e38-49f3-9f3d-645a7a74b1c3"
      },
      "execution_count": null,
      "outputs": [
        {
          "output_type": "stream",
          "name": "stdout",
          "text": [
            "  Catch_Rate_Band  isLegendary\n",
            "0   (2.748, 53.4]     0.163347\n",
            "1   (53.4, 103.8]     0.000000\n",
            "2  (103.8, 154.2]     0.000000\n",
            "3  (154.2, 204.6]     0.000000\n",
            "4  (204.6, 255.0]     0.000000\n"
          ]
        },
        {
          "output_type": "stream",
          "name": "stderr",
          "text": [
            "/usr/local/lib/python3.7/dist-packages/ipykernel_launcher.py:7: SettingWithCopyWarning: \n",
            "A value is trying to be set on a copy of a slice from a DataFrame\n",
            "\n",
            "See the caveats in the documentation: https://pandas.pydata.org/pandas-docs/stable/user_guide/indexing.html#returning-a-view-versus-a-copy\n",
            "  import sys\n"
          ]
        }
      ]
    },
    {
      "cell_type": "code",
      "source": [
        "for dataset in train_test_data:\n",
        "    dataset.loc[ dataset['Catch_Rate'] <= 53, 'Catch_Rate'] = 0\n",
        "    dataset.loc[(dataset['Catch_Rate'] > 53) & (dataset['Catch_Rate'] <= 104), 'Catch_Rate'] = 1\n",
        "    dataset.loc[(dataset['Catch_Rate'] > 104) & (dataset['Catch_Rate'] <= 154), 'Catch_Rate'] = 2\n",
        "    dataset.loc[(dataset['Catch_Rate'] > 154) & (dataset['Catch_Rate'] <= 204), 'Catch_Rate'] = 3\n",
        "    dataset.loc[ dataset['Catch_Rate'] >= 255, 'Catch_Rate'] = 4"
      ],
      "metadata": {
        "id": "b_LqCDTkkkwz"
      },
      "execution_count": null,
      "outputs": []
    },
    {
      "cell_type": "code",
      "source": [
        "train.columns"
      ],
      "metadata": {
        "colab": {
          "base_uri": "https://localhost:8080/"
        },
        "id": "av8GOndIklp1",
        "outputId": "64844640-e99e-45b3-fad3-572ce88df301"
      },
      "execution_count": null,
      "outputs": [
        {
          "output_type": "execute_result",
          "data": {
            "text/plain": [
              "Index(['Number', 'Name', 'Type_1', 'Type_2', 'Total', 'HP', 'Attack',\n",
              "       'Defense', 'Sp_Atk', 'Sp_Def', 'Speed', 'Generation', 'isLegendary',\n",
              "       'Color', 'hasGender', 'Pr_Male', 'Egg_Group_1', 'hasMegaEvolution',\n",
              "       'Height_m', 'Weight_kg', 'Catch_Rate', 'Body_Style', 'shuffle',\n",
              "       'Pr_Male_Band', 'Attack_Band', 'Defense_Band', 'Catch_Rate_Band'],\n",
              "      dtype='object')"
            ]
          },
          "metadata": {},
          "execution_count": 33
        }
      ]
    },
    {
      "cell_type": "code",
      "source": [
        "train_drop = ['Number', 'Name', 'Total', 'HP', 'Sp_Atk', 'Sp_Def', 'Speed', 'Generation','Color', 'hasGender', 'Egg_Group_1', 'hasMegaEvolution','Height_m', 'Weight_kg', 'Body_Style', 'shuffle','Pr_Male_Band', 'Attack_Band', 'Defense_Band', 'Catch_Rate_Band']\n",
        "train = train.drop(train_drop, axis=1)"
      ],
      "metadata": {
        "id": "V-70kJN8kmlJ"
      },
      "execution_count": null,
      "outputs": []
    },
    {
      "cell_type": "code",
      "source": [
        "train.head()"
      ],
      "metadata": {
        "colab": {
          "base_uri": "https://localhost:8080/",
          "height": 206
        },
        "id": "iIjzvAoikna7",
        "outputId": "d7a896de-8f31-49c3-e525-d53001f7937b"
      },
      "execution_count": null,
      "outputs": [
        {
          "output_type": "execute_result",
          "data": {
            "text/plain": [
              "   Type_1  Type_2  Attack  Defense  isLegendary  Pr_Male  Catch_Rate\n",
              "0      14       2       2        1            0        0           0\n",
              "1       7      19       1        0            0        0           2\n",
              "2      17      10       3        1            0        0           1\n",
              "3      19      11       0        1            0        0           3\n",
              "4      14      13       1        3            0        0           0"
            ],
            "text/html": [
              "\n",
              "  <div id=\"df-245d5c9d-5700-4bcb-b711-bf8af786c5a8\">\n",
              "    <div class=\"colab-df-container\">\n",
              "      <div>\n",
              "<style scoped>\n",
              "    .dataframe tbody tr th:only-of-type {\n",
              "        vertical-align: middle;\n",
              "    }\n",
              "\n",
              "    .dataframe tbody tr th {\n",
              "        vertical-align: top;\n",
              "    }\n",
              "\n",
              "    .dataframe thead th {\n",
              "        text-align: right;\n",
              "    }\n",
              "</style>\n",
              "<table border=\"1\" class=\"dataframe\">\n",
              "  <thead>\n",
              "    <tr style=\"text-align: right;\">\n",
              "      <th></th>\n",
              "      <th>Type_1</th>\n",
              "      <th>Type_2</th>\n",
              "      <th>Attack</th>\n",
              "      <th>Defense</th>\n",
              "      <th>isLegendary</th>\n",
              "      <th>Pr_Male</th>\n",
              "      <th>Catch_Rate</th>\n",
              "    </tr>\n",
              "  </thead>\n",
              "  <tbody>\n",
              "    <tr>\n",
              "      <th>0</th>\n",
              "      <td>14</td>\n",
              "      <td>2</td>\n",
              "      <td>2</td>\n",
              "      <td>1</td>\n",
              "      <td>0</td>\n",
              "      <td>0</td>\n",
              "      <td>0</td>\n",
              "    </tr>\n",
              "    <tr>\n",
              "      <th>1</th>\n",
              "      <td>7</td>\n",
              "      <td>19</td>\n",
              "      <td>1</td>\n",
              "      <td>0</td>\n",
              "      <td>0</td>\n",
              "      <td>0</td>\n",
              "      <td>2</td>\n",
              "    </tr>\n",
              "    <tr>\n",
              "      <th>2</th>\n",
              "      <td>17</td>\n",
              "      <td>10</td>\n",
              "      <td>3</td>\n",
              "      <td>1</td>\n",
              "      <td>0</td>\n",
              "      <td>0</td>\n",
              "      <td>1</td>\n",
              "    </tr>\n",
              "    <tr>\n",
              "      <th>3</th>\n",
              "      <td>19</td>\n",
              "      <td>11</td>\n",
              "      <td>0</td>\n",
              "      <td>1</td>\n",
              "      <td>0</td>\n",
              "      <td>0</td>\n",
              "      <td>3</td>\n",
              "    </tr>\n",
              "    <tr>\n",
              "      <th>4</th>\n",
              "      <td>14</td>\n",
              "      <td>13</td>\n",
              "      <td>1</td>\n",
              "      <td>3</td>\n",
              "      <td>0</td>\n",
              "      <td>0</td>\n",
              "      <td>0</td>\n",
              "    </tr>\n",
              "  </tbody>\n",
              "</table>\n",
              "</div>\n",
              "      <button class=\"colab-df-convert\" onclick=\"convertToInteractive('df-245d5c9d-5700-4bcb-b711-bf8af786c5a8')\"\n",
              "              title=\"Convert this dataframe to an interactive table.\"\n",
              "              style=\"display:none;\">\n",
              "        \n",
              "  <svg xmlns=\"http://www.w3.org/2000/svg\" height=\"24px\"viewBox=\"0 0 24 24\"\n",
              "       width=\"24px\">\n",
              "    <path d=\"M0 0h24v24H0V0z\" fill=\"none\"/>\n",
              "    <path d=\"M18.56 5.44l.94 2.06.94-2.06 2.06-.94-2.06-.94-.94-2.06-.94 2.06-2.06.94zm-11 1L8.5 8.5l.94-2.06 2.06-.94-2.06-.94L8.5 2.5l-.94 2.06-2.06.94zm10 10l.94 2.06.94-2.06 2.06-.94-2.06-.94-.94-2.06-.94 2.06-2.06.94z\"/><path d=\"M17.41 7.96l-1.37-1.37c-.4-.4-.92-.59-1.43-.59-.52 0-1.04.2-1.43.59L10.3 9.45l-7.72 7.72c-.78.78-.78 2.05 0 2.83L4 21.41c.39.39.9.59 1.41.59.51 0 1.02-.2 1.41-.59l7.78-7.78 2.81-2.81c.8-.78.8-2.07 0-2.86zM5.41 20L4 18.59l7.72-7.72 1.47 1.35L5.41 20z\"/>\n",
              "  </svg>\n",
              "      </button>\n",
              "      \n",
              "  <style>\n",
              "    .colab-df-container {\n",
              "      display:flex;\n",
              "      flex-wrap:wrap;\n",
              "      gap: 12px;\n",
              "    }\n",
              "\n",
              "    .colab-df-convert {\n",
              "      background-color: #E8F0FE;\n",
              "      border: none;\n",
              "      border-radius: 50%;\n",
              "      cursor: pointer;\n",
              "      display: none;\n",
              "      fill: #1967D2;\n",
              "      height: 32px;\n",
              "      padding: 0 0 0 0;\n",
              "      width: 32px;\n",
              "    }\n",
              "\n",
              "    .colab-df-convert:hover {\n",
              "      background-color: #E2EBFA;\n",
              "      box-shadow: 0px 1px 2px rgba(60, 64, 67, 0.3), 0px 1px 3px 1px rgba(60, 64, 67, 0.15);\n",
              "      fill: #174EA6;\n",
              "    }\n",
              "\n",
              "    [theme=dark] .colab-df-convert {\n",
              "      background-color: #3B4455;\n",
              "      fill: #D2E3FC;\n",
              "    }\n",
              "\n",
              "    [theme=dark] .colab-df-convert:hover {\n",
              "      background-color: #434B5C;\n",
              "      box-shadow: 0px 1px 3px 1px rgba(0, 0, 0, 0.15);\n",
              "      filter: drop-shadow(0px 1px 2px rgba(0, 0, 0, 0.3));\n",
              "      fill: #FFFFFF;\n",
              "    }\n",
              "  </style>\n",
              "\n",
              "      <script>\n",
              "        const buttonEl =\n",
              "          document.querySelector('#df-245d5c9d-5700-4bcb-b711-bf8af786c5a8 button.colab-df-convert');\n",
              "        buttonEl.style.display =\n",
              "          google.colab.kernel.accessAllowed ? 'block' : 'none';\n",
              "\n",
              "        async function convertToInteractive(key) {\n",
              "          const element = document.querySelector('#df-245d5c9d-5700-4bcb-b711-bf8af786c5a8');\n",
              "          const dataTable =\n",
              "            await google.colab.kernel.invokeFunction('convertToInteractive',\n",
              "                                                     [key], {});\n",
              "          if (!dataTable) return;\n",
              "\n",
              "          const docLinkHtml = 'Like what you see? Visit the ' +\n",
              "            '<a target=\"_blank\" href=https://colab.research.google.com/notebooks/data_table.ipynb>data table notebook</a>'\n",
              "            + ' to learn more about interactive tables.';\n",
              "          element.innerHTML = '';\n",
              "          dataTable['output_type'] = 'display_data';\n",
              "          await google.colab.output.renderOutput(dataTable, element);\n",
              "          const docLink = document.createElement('div');\n",
              "          docLink.innerHTML = docLinkHtml;\n",
              "          element.appendChild(docLink);\n",
              "        }\n",
              "      </script>\n",
              "    </div>\n",
              "  </div>\n",
              "  "
            ]
          },
          "metadata": {},
          "execution_count": 35
        }
      ]
    },
    {
      "cell_type": "code",
      "source": [
        "test.head()"
      ],
      "metadata": {
        "colab": {
          "base_uri": "https://localhost:8080/",
          "height": 299
        },
        "id": "Bi5Q3jV_koIw",
        "outputId": "021bec1b-28a6-428e-b9a7-988c59493eec"
      },
      "execution_count": null,
      "outputs": [
        {
          "output_type": "execute_result",
          "data": {
            "text/plain": [
              "   Number      Name  Type_1  Type_2  Total  HP  Attack  Defense  Sp_Atk  \\\n",
              "0     324   Torkoal       1     0.0    470  70       2        2      85   \n",
              "1     425  Drifloon       8     6.0    348  90       1        0      60   \n",
              "2     165    Ledyba      15     6.0    265  40       0        0      40   \n",
              "3      78  Rapidash       1     0.0    500  65       3        1      80   \n",
              "4     491   Darkrai      18     0.0    600  70       2        1     135   \n",
              "\n",
              "   Sp_Def  ...  hasGender  Pr_Male   Egg_Group_1 Egg_Group_2  \\\n",
              "0      70  ...       True        0         Field         NaN   \n",
              "1      44  ...       True        0     Amorphous         NaN   \n",
              "2      80  ...       True        0           Bug         NaN   \n",
              "3      80  ...       True        0         Field         NaN   \n",
              "4      90  ...      False        0  Undiscovered         NaN   \n",
              "\n",
              "   hasMegaEvolution  Height_m Weight_kg Catch_Rate        Body_Style   shuffle  \n",
              "0             False      0.51      80.4          1         quadruped  0.731225  \n",
              "1             False      0.41       1.2          2         head_arms  0.024422  \n",
              "2             False      0.99      10.8          4         two_wings  0.246488  \n",
              "3             False      1.70      95.0          1         quadruped  0.969218  \n",
              "4             False      1.50      50.5          0  bipedal_tailless  0.924239  \n",
              "\n",
              "[5 rows x 24 columns]"
            ],
            "text/html": [
              "\n",
              "  <div id=\"df-2044c573-9741-401e-ae12-9a692d2b9316\">\n",
              "    <div class=\"colab-df-container\">\n",
              "      <div>\n",
              "<style scoped>\n",
              "    .dataframe tbody tr th:only-of-type {\n",
              "        vertical-align: middle;\n",
              "    }\n",
              "\n",
              "    .dataframe tbody tr th {\n",
              "        vertical-align: top;\n",
              "    }\n",
              "\n",
              "    .dataframe thead th {\n",
              "        text-align: right;\n",
              "    }\n",
              "</style>\n",
              "<table border=\"1\" class=\"dataframe\">\n",
              "  <thead>\n",
              "    <tr style=\"text-align: right;\">\n",
              "      <th></th>\n",
              "      <th>Number</th>\n",
              "      <th>Name</th>\n",
              "      <th>Type_1</th>\n",
              "      <th>Type_2</th>\n",
              "      <th>Total</th>\n",
              "      <th>HP</th>\n",
              "      <th>Attack</th>\n",
              "      <th>Defense</th>\n",
              "      <th>Sp_Atk</th>\n",
              "      <th>Sp_Def</th>\n",
              "      <th>...</th>\n",
              "      <th>hasGender</th>\n",
              "      <th>Pr_Male</th>\n",
              "      <th>Egg_Group_1</th>\n",
              "      <th>Egg_Group_2</th>\n",
              "      <th>hasMegaEvolution</th>\n",
              "      <th>Height_m</th>\n",
              "      <th>Weight_kg</th>\n",
              "      <th>Catch_Rate</th>\n",
              "      <th>Body_Style</th>\n",
              "      <th>shuffle</th>\n",
              "    </tr>\n",
              "  </thead>\n",
              "  <tbody>\n",
              "    <tr>\n",
              "      <th>0</th>\n",
              "      <td>324</td>\n",
              "      <td>Torkoal</td>\n",
              "      <td>1</td>\n",
              "      <td>0.0</td>\n",
              "      <td>470</td>\n",
              "      <td>70</td>\n",
              "      <td>2</td>\n",
              "      <td>2</td>\n",
              "      <td>85</td>\n",
              "      <td>70</td>\n",
              "      <td>...</td>\n",
              "      <td>True</td>\n",
              "      <td>0</td>\n",
              "      <td>Field</td>\n",
              "      <td>NaN</td>\n",
              "      <td>False</td>\n",
              "      <td>0.51</td>\n",
              "      <td>80.4</td>\n",
              "      <td>1</td>\n",
              "      <td>quadruped</td>\n",
              "      <td>0.731225</td>\n",
              "    </tr>\n",
              "    <tr>\n",
              "      <th>1</th>\n",
              "      <td>425</td>\n",
              "      <td>Drifloon</td>\n",
              "      <td>8</td>\n",
              "      <td>6.0</td>\n",
              "      <td>348</td>\n",
              "      <td>90</td>\n",
              "      <td>1</td>\n",
              "      <td>0</td>\n",
              "      <td>60</td>\n",
              "      <td>44</td>\n",
              "      <td>...</td>\n",
              "      <td>True</td>\n",
              "      <td>0</td>\n",
              "      <td>Amorphous</td>\n",
              "      <td>NaN</td>\n",
              "      <td>False</td>\n",
              "      <td>0.41</td>\n",
              "      <td>1.2</td>\n",
              "      <td>2</td>\n",
              "      <td>head_arms</td>\n",
              "      <td>0.024422</td>\n",
              "    </tr>\n",
              "    <tr>\n",
              "      <th>2</th>\n",
              "      <td>165</td>\n",
              "      <td>Ledyba</td>\n",
              "      <td>15</td>\n",
              "      <td>6.0</td>\n",
              "      <td>265</td>\n",
              "      <td>40</td>\n",
              "      <td>0</td>\n",
              "      <td>0</td>\n",
              "      <td>40</td>\n",
              "      <td>80</td>\n",
              "      <td>...</td>\n",
              "      <td>True</td>\n",
              "      <td>0</td>\n",
              "      <td>Bug</td>\n",
              "      <td>NaN</td>\n",
              "      <td>False</td>\n",
              "      <td>0.99</td>\n",
              "      <td>10.8</td>\n",
              "      <td>4</td>\n",
              "      <td>two_wings</td>\n",
              "      <td>0.246488</td>\n",
              "    </tr>\n",
              "    <tr>\n",
              "      <th>3</th>\n",
              "      <td>78</td>\n",
              "      <td>Rapidash</td>\n",
              "      <td>1</td>\n",
              "      <td>0.0</td>\n",
              "      <td>500</td>\n",
              "      <td>65</td>\n",
              "      <td>3</td>\n",
              "      <td>1</td>\n",
              "      <td>80</td>\n",
              "      <td>80</td>\n",
              "      <td>...</td>\n",
              "      <td>True</td>\n",
              "      <td>0</td>\n",
              "      <td>Field</td>\n",
              "      <td>NaN</td>\n",
              "      <td>False</td>\n",
              "      <td>1.70</td>\n",
              "      <td>95.0</td>\n",
              "      <td>1</td>\n",
              "      <td>quadruped</td>\n",
              "      <td>0.969218</td>\n",
              "    </tr>\n",
              "    <tr>\n",
              "      <th>4</th>\n",
              "      <td>491</td>\n",
              "      <td>Darkrai</td>\n",
              "      <td>18</td>\n",
              "      <td>0.0</td>\n",
              "      <td>600</td>\n",
              "      <td>70</td>\n",
              "      <td>2</td>\n",
              "      <td>1</td>\n",
              "      <td>135</td>\n",
              "      <td>90</td>\n",
              "      <td>...</td>\n",
              "      <td>False</td>\n",
              "      <td>0</td>\n",
              "      <td>Undiscovered</td>\n",
              "      <td>NaN</td>\n",
              "      <td>False</td>\n",
              "      <td>1.50</td>\n",
              "      <td>50.5</td>\n",
              "      <td>0</td>\n",
              "      <td>bipedal_tailless</td>\n",
              "      <td>0.924239</td>\n",
              "    </tr>\n",
              "  </tbody>\n",
              "</table>\n",
              "<p>5 rows × 24 columns</p>\n",
              "</div>\n",
              "      <button class=\"colab-df-convert\" onclick=\"convertToInteractive('df-2044c573-9741-401e-ae12-9a692d2b9316')\"\n",
              "              title=\"Convert this dataframe to an interactive table.\"\n",
              "              style=\"display:none;\">\n",
              "        \n",
              "  <svg xmlns=\"http://www.w3.org/2000/svg\" height=\"24px\"viewBox=\"0 0 24 24\"\n",
              "       width=\"24px\">\n",
              "    <path d=\"M0 0h24v24H0V0z\" fill=\"none\"/>\n",
              "    <path d=\"M18.56 5.44l.94 2.06.94-2.06 2.06-.94-2.06-.94-.94-2.06-.94 2.06-2.06.94zm-11 1L8.5 8.5l.94-2.06 2.06-.94-2.06-.94L8.5 2.5l-.94 2.06-2.06.94zm10 10l.94 2.06.94-2.06 2.06-.94-2.06-.94-.94-2.06-.94 2.06-2.06.94z\"/><path d=\"M17.41 7.96l-1.37-1.37c-.4-.4-.92-.59-1.43-.59-.52 0-1.04.2-1.43.59L10.3 9.45l-7.72 7.72c-.78.78-.78 2.05 0 2.83L4 21.41c.39.39.9.59 1.41.59.51 0 1.02-.2 1.41-.59l7.78-7.78 2.81-2.81c.8-.78.8-2.07 0-2.86zM5.41 20L4 18.59l7.72-7.72 1.47 1.35L5.41 20z\"/>\n",
              "  </svg>\n",
              "      </button>\n",
              "      \n",
              "  <style>\n",
              "    .colab-df-container {\n",
              "      display:flex;\n",
              "      flex-wrap:wrap;\n",
              "      gap: 12px;\n",
              "    }\n",
              "\n",
              "    .colab-df-convert {\n",
              "      background-color: #E8F0FE;\n",
              "      border: none;\n",
              "      border-radius: 50%;\n",
              "      cursor: pointer;\n",
              "      display: none;\n",
              "      fill: #1967D2;\n",
              "      height: 32px;\n",
              "      padding: 0 0 0 0;\n",
              "      width: 32px;\n",
              "    }\n",
              "\n",
              "    .colab-df-convert:hover {\n",
              "      background-color: #E2EBFA;\n",
              "      box-shadow: 0px 1px 2px rgba(60, 64, 67, 0.3), 0px 1px 3px 1px rgba(60, 64, 67, 0.15);\n",
              "      fill: #174EA6;\n",
              "    }\n",
              "\n",
              "    [theme=dark] .colab-df-convert {\n",
              "      background-color: #3B4455;\n",
              "      fill: #D2E3FC;\n",
              "    }\n",
              "\n",
              "    [theme=dark] .colab-df-convert:hover {\n",
              "      background-color: #434B5C;\n",
              "      box-shadow: 0px 1px 3px 1px rgba(0, 0, 0, 0.15);\n",
              "      filter: drop-shadow(0px 1px 2px rgba(0, 0, 0, 0.3));\n",
              "      fill: #FFFFFF;\n",
              "    }\n",
              "  </style>\n",
              "\n",
              "      <script>\n",
              "        const buttonEl =\n",
              "          document.querySelector('#df-2044c573-9741-401e-ae12-9a692d2b9316 button.colab-df-convert');\n",
              "        buttonEl.style.display =\n",
              "          google.colab.kernel.accessAllowed ? 'block' : 'none';\n",
              "\n",
              "        async function convertToInteractive(key) {\n",
              "          const element = document.querySelector('#df-2044c573-9741-401e-ae12-9a692d2b9316');\n",
              "          const dataTable =\n",
              "            await google.colab.kernel.invokeFunction('convertToInteractive',\n",
              "                                                     [key], {});\n",
              "          if (!dataTable) return;\n",
              "\n",
              "          const docLinkHtml = 'Like what you see? Visit the ' +\n",
              "            '<a target=\"_blank\" href=https://colab.research.google.com/notebooks/data_table.ipynb>data table notebook</a>'\n",
              "            + ' to learn more about interactive tables.';\n",
              "          element.innerHTML = '';\n",
              "          dataTable['output_type'] = 'display_data';\n",
              "          await google.colab.output.renderOutput(dataTable, element);\n",
              "          const docLink = document.createElement('div');\n",
              "          docLink.innerHTML = docLinkHtml;\n",
              "          element.appendChild(docLink);\n",
              "        }\n",
              "      </script>\n",
              "    </div>\n",
              "  </div>\n",
              "  "
            ]
          },
          "metadata": {},
          "execution_count": 36
        }
      ]
    },
    {
      "cell_type": "code",
      "source": [
        "test_drop = ['Number', 'Name', 'Total', 'HP', 'Sp_Atk', 'Sp_Def', 'Speed', 'Generation',\n",
        "       'Color', 'hasGender', 'Egg_Group_1', 'Egg_Group_2', 'isLegendary',\n",
        "       'hasMegaEvolution', 'Height_m', 'Weight_kg', 'Body_Style',\n",
        "       'shuffle']\n",
        "test = test.drop(test_drop, axis=1)"
      ],
      "metadata": {
        "id": "6e_PtvEYkp6L"
      },
      "execution_count": null,
      "outputs": []
    },
    {
      "cell_type": "code",
      "source": [
        "test.head()"
      ],
      "metadata": {
        "colab": {
          "base_uri": "https://localhost:8080/",
          "height": 206
        },
        "id": "dxK4KSq-kqke",
        "outputId": "3289dee2-784c-4e7c-cadb-6cd70eeb265e"
      },
      "execution_count": null,
      "outputs": [
        {
          "output_type": "execute_result",
          "data": {
            "text/plain": [
              "   Type_1  Type_2  Attack  Defense  Pr_Male  Catch_Rate\n",
              "0       1     0.0       2        2        0           1\n",
              "1       8     6.0       1        0        0           2\n",
              "2      15     6.0       0        0        0           4\n",
              "3       1     0.0       3        1        0           1\n",
              "4      18     0.0       2        1        0           0"
            ],
            "text/html": [
              "\n",
              "  <div id=\"df-3d6bbc94-b916-4506-913c-c861f714b21c\">\n",
              "    <div class=\"colab-df-container\">\n",
              "      <div>\n",
              "<style scoped>\n",
              "    .dataframe tbody tr th:only-of-type {\n",
              "        vertical-align: middle;\n",
              "    }\n",
              "\n",
              "    .dataframe tbody tr th {\n",
              "        vertical-align: top;\n",
              "    }\n",
              "\n",
              "    .dataframe thead th {\n",
              "        text-align: right;\n",
              "    }\n",
              "</style>\n",
              "<table border=\"1\" class=\"dataframe\">\n",
              "  <thead>\n",
              "    <tr style=\"text-align: right;\">\n",
              "      <th></th>\n",
              "      <th>Type_1</th>\n",
              "      <th>Type_2</th>\n",
              "      <th>Attack</th>\n",
              "      <th>Defense</th>\n",
              "      <th>Pr_Male</th>\n",
              "      <th>Catch_Rate</th>\n",
              "    </tr>\n",
              "  </thead>\n",
              "  <tbody>\n",
              "    <tr>\n",
              "      <th>0</th>\n",
              "      <td>1</td>\n",
              "      <td>0.0</td>\n",
              "      <td>2</td>\n",
              "      <td>2</td>\n",
              "      <td>0</td>\n",
              "      <td>1</td>\n",
              "    </tr>\n",
              "    <tr>\n",
              "      <th>1</th>\n",
              "      <td>8</td>\n",
              "      <td>6.0</td>\n",
              "      <td>1</td>\n",
              "      <td>0</td>\n",
              "      <td>0</td>\n",
              "      <td>2</td>\n",
              "    </tr>\n",
              "    <tr>\n",
              "      <th>2</th>\n",
              "      <td>15</td>\n",
              "      <td>6.0</td>\n",
              "      <td>0</td>\n",
              "      <td>0</td>\n",
              "      <td>0</td>\n",
              "      <td>4</td>\n",
              "    </tr>\n",
              "    <tr>\n",
              "      <th>3</th>\n",
              "      <td>1</td>\n",
              "      <td>0.0</td>\n",
              "      <td>3</td>\n",
              "      <td>1</td>\n",
              "      <td>0</td>\n",
              "      <td>1</td>\n",
              "    </tr>\n",
              "    <tr>\n",
              "      <th>4</th>\n",
              "      <td>18</td>\n",
              "      <td>0.0</td>\n",
              "      <td>2</td>\n",
              "      <td>1</td>\n",
              "      <td>0</td>\n",
              "      <td>0</td>\n",
              "    </tr>\n",
              "  </tbody>\n",
              "</table>\n",
              "</div>\n",
              "      <button class=\"colab-df-convert\" onclick=\"convertToInteractive('df-3d6bbc94-b916-4506-913c-c861f714b21c')\"\n",
              "              title=\"Convert this dataframe to an interactive table.\"\n",
              "              style=\"display:none;\">\n",
              "        \n",
              "  <svg xmlns=\"http://www.w3.org/2000/svg\" height=\"24px\"viewBox=\"0 0 24 24\"\n",
              "       width=\"24px\">\n",
              "    <path d=\"M0 0h24v24H0V0z\" fill=\"none\"/>\n",
              "    <path d=\"M18.56 5.44l.94 2.06.94-2.06 2.06-.94-2.06-.94-.94-2.06-.94 2.06-2.06.94zm-11 1L8.5 8.5l.94-2.06 2.06-.94-2.06-.94L8.5 2.5l-.94 2.06-2.06.94zm10 10l.94 2.06.94-2.06 2.06-.94-2.06-.94-.94-2.06-.94 2.06-2.06.94z\"/><path d=\"M17.41 7.96l-1.37-1.37c-.4-.4-.92-.59-1.43-.59-.52 0-1.04.2-1.43.59L10.3 9.45l-7.72 7.72c-.78.78-.78 2.05 0 2.83L4 21.41c.39.39.9.59 1.41.59.51 0 1.02-.2 1.41-.59l7.78-7.78 2.81-2.81c.8-.78.8-2.07 0-2.86zM5.41 20L4 18.59l7.72-7.72 1.47 1.35L5.41 20z\"/>\n",
              "  </svg>\n",
              "      </button>\n",
              "      \n",
              "  <style>\n",
              "    .colab-df-container {\n",
              "      display:flex;\n",
              "      flex-wrap:wrap;\n",
              "      gap: 12px;\n",
              "    }\n",
              "\n",
              "    .colab-df-convert {\n",
              "      background-color: #E8F0FE;\n",
              "      border: none;\n",
              "      border-radius: 50%;\n",
              "      cursor: pointer;\n",
              "      display: none;\n",
              "      fill: #1967D2;\n",
              "      height: 32px;\n",
              "      padding: 0 0 0 0;\n",
              "      width: 32px;\n",
              "    }\n",
              "\n",
              "    .colab-df-convert:hover {\n",
              "      background-color: #E2EBFA;\n",
              "      box-shadow: 0px 1px 2px rgba(60, 64, 67, 0.3), 0px 1px 3px 1px rgba(60, 64, 67, 0.15);\n",
              "      fill: #174EA6;\n",
              "    }\n",
              "\n",
              "    [theme=dark] .colab-df-convert {\n",
              "      background-color: #3B4455;\n",
              "      fill: #D2E3FC;\n",
              "    }\n",
              "\n",
              "    [theme=dark] .colab-df-convert:hover {\n",
              "      background-color: #434B5C;\n",
              "      box-shadow: 0px 1px 3px 1px rgba(0, 0, 0, 0.15);\n",
              "      filter: drop-shadow(0px 1px 2px rgba(0, 0, 0, 0.3));\n",
              "      fill: #FFFFFF;\n",
              "    }\n",
              "  </style>\n",
              "\n",
              "      <script>\n",
              "        const buttonEl =\n",
              "          document.querySelector('#df-3d6bbc94-b916-4506-913c-c861f714b21c button.colab-df-convert');\n",
              "        buttonEl.style.display =\n",
              "          google.colab.kernel.accessAllowed ? 'block' : 'none';\n",
              "\n",
              "        async function convertToInteractive(key) {\n",
              "          const element = document.querySelector('#df-3d6bbc94-b916-4506-913c-c861f714b21c');\n",
              "          const dataTable =\n",
              "            await google.colab.kernel.invokeFunction('convertToInteractive',\n",
              "                                                     [key], {});\n",
              "          if (!dataTable) return;\n",
              "\n",
              "          const docLinkHtml = 'Like what you see? Visit the ' +\n",
              "            '<a target=\"_blank\" href=https://colab.research.google.com/notebooks/data_table.ipynb>data table notebook</a>'\n",
              "            + ' to learn more about interactive tables.';\n",
              "          element.innerHTML = '';\n",
              "          dataTable['output_type'] = 'display_data';\n",
              "          await google.colab.output.renderOutput(dataTable, element);\n",
              "          const docLink = document.createElement('div');\n",
              "          docLink.innerHTML = docLinkHtml;\n",
              "          element.appendChild(docLink);\n",
              "        }\n",
              "      </script>\n",
              "    </div>\n",
              "  </div>\n",
              "  "
            ]
          },
          "metadata": {},
          "execution_count": 38
        }
      ]
    },
    {
      "cell_type": "code",
      "source": [
        "X_train = train.drop('isLegendary', axis=1)\n",
        "y_train = train['isLegendary']\n",
        "X_test = test.copy()\n",
        "\n",
        "X_train.shape, y_train.shape, X_test.shape"
      ],
      "metadata": {
        "colab": {
          "base_uri": "https://localhost:8080/"
        },
        "id": "BHzS80o-ksnY",
        "outputId": "b2020b18-26a1-4023-819f-1cd4428e0b49"
      },
      "execution_count": null,
      "outputs": [
        {
          "output_type": "execute_result",
          "data": {
            "text/plain": [
              "((577, 6), (577,), (144, 6))"
            ]
          },
          "metadata": {},
          "execution_count": 39
        }
      ]
    },
    {
      "cell_type": "code",
      "source": [
        "# Importing Classifier Modules\n",
        "from sklearn.linear_model import LogisticRegression\n",
        "from sklearn.svm import SVC, LinearSVC\n",
        "from sklearn.neighbors import KNeighborsClassifier\n",
        "from sklearn.tree import DecisionTreeClassifier\n",
        "from sklearn.ensemble import RandomForestClassifier\n",
        "from sklearn.naive_bayes import GaussianNB\n",
        "from sklearn.linear_model import Perceptron\n",
        "from sklearn.linear_model import SGDClassifier"
      ],
      "metadata": {
        "id": "Z5cY9_8skty5"
      },
      "execution_count": null,
      "outputs": []
    },
    {
      "cell_type": "code",
      "source": [
        "clf = LogisticRegression()\n",
        "clf.fit(X_train, y_train)\n",
        "y_pred_log_reg = clf.predict(X_test)\n",
        "acc_log_reg = round( clf.score(X_train, y_train) * 100, 2)\n",
        "print(str(acc_log_reg) + ' percent')"
      ],
      "metadata": {
        "colab": {
          "base_uri": "https://localhost:8080/"
        },
        "id": "XvvMBuCSkuvz",
        "outputId": "6d15f76d-99f7-4542-ab9c-63d599ef47f2"
      },
      "execution_count": null,
      "outputs": [
        {
          "output_type": "stream",
          "name": "stdout",
          "text": [
            "94.45 percent\n"
          ]
        }
      ]
    },
    {
      "cell_type": "code",
      "source": [
        "clf = SVC()\n",
        "clf.fit(X_train, y_train)\n",
        "y_pred_svc = clf.predict(X_test)\n",
        "acc_svc = round(clf.score(X_train, y_train) * 100, 2)\n",
        "print (acc_svc)"
      ],
      "metadata": {
        "colab": {
          "base_uri": "https://localhost:8080/"
        },
        "id": "cWUkciuMkvmc",
        "outputId": "ee0a4409-45e7-4069-f5f5-eec0c3090b66"
      },
      "execution_count": null,
      "outputs": [
        {
          "output_type": "stream",
          "name": "stdout",
          "text": [
            "92.89\n"
          ]
        }
      ]
    },
    {
      "cell_type": "code",
      "source": [
        "clf = KNeighborsClassifier(n_neighbors = 3)\n",
        "clf.fit(X_train, y_train)\n",
        "y_pred_knn = clf.predict(X_test)\n",
        "acc_knn = round(clf.score(X_train, y_train) * 100, 2)\n",
        "print (acc_knn)"
      ],
      "metadata": {
        "colab": {
          "base_uri": "https://localhost:8080/"
        },
        "id": "GolGrNldkwlS",
        "outputId": "a18f9867-2236-40eb-b560-fc0c296fa80b"
      },
      "execution_count": null,
      "outputs": [
        {
          "output_type": "stream",
          "name": "stdout",
          "text": [
            "95.84\n"
          ]
        }
      ]
    },
    {
      "cell_type": "code",
      "source": [
        "clf = DecisionTreeClassifier()\n",
        "clf.fit(X_train, y_train)\n",
        "y_pred_decision_tree = clf.predict(X_test)\n",
        "acc_decision_tree = round(clf.score(X_train, y_train) * 100, 2)\n",
        "print (acc_decision_tree)"
      ],
      "metadata": {
        "colab": {
          "base_uri": "https://localhost:8080/"
        },
        "id": "t5t5oDpHkyL_",
        "outputId": "5ec921df-4a0b-437f-eb58-e9adc5618d6c"
      },
      "execution_count": null,
      "outputs": [
        {
          "output_type": "stream",
          "name": "stdout",
          "text": [
            "98.79\n"
          ]
        }
      ]
    },
    {
      "cell_type": "code",
      "source": [
        "clf = RandomForestClassifier(n_estimators=100)\n",
        "clf.fit(X_train, y_train)\n",
        "y_pred_random_forest = clf.predict(X_test)\n",
        "acc_random_forest = round(clf.score(X_train, y_train) * 100, 2)\n",
        "print (acc_random_forest)"
      ],
      "metadata": {
        "colab": {
          "base_uri": "https://localhost:8080/"
        },
        "id": "ZvCvIoe5ky-9",
        "outputId": "949804ff-cd35-419e-bbdf-5fb726e567c1"
      },
      "execution_count": null,
      "outputs": [
        {
          "output_type": "stream",
          "name": "stdout",
          "text": [
            "98.79\n"
          ]
        }
      ]
    },
    {
      "cell_type": "code",
      "source": [
        "clf = GaussianNB()\n",
        "clf.fit(X_train, y_train)\n",
        "y_pred_gnb = clf.predict(X_test)\n",
        "acc_gnb = round(clf.score(X_train, y_train) * 100, 2)\n",
        "print (acc_gnb)"
      ],
      "metadata": {
        "colab": {
          "base_uri": "https://localhost:8080/"
        },
        "id": "Dble5Clykz7c",
        "outputId": "c0c82841-9c40-48a7-c25c-dd1016d05a17"
      },
      "execution_count": null,
      "outputs": [
        {
          "output_type": "stream",
          "name": "stdout",
          "text": [
            "64.12\n"
          ]
        }
      ]
    },
    {
      "cell_type": "code",
      "source": [
        "clf = Perceptron(max_iter=5, tol=None)\n",
        "clf.fit(X_train, y_train)\n",
        "y_pred_perceptron = clf.predict(X_test)\n",
        "acc_perceptron = round(clf.score(X_train, y_train) * 100, 2)\n",
        "print (acc_perceptron)"
      ],
      "metadata": {
        "colab": {
          "base_uri": "https://localhost:8080/"
        },
        "id": "_pHS9TUYk0zW",
        "outputId": "2214a39f-8f78-4b22-a655-9ec20d62615b"
      },
      "execution_count": null,
      "outputs": [
        {
          "output_type": "stream",
          "name": "stdout",
          "text": [
            "93.93\n"
          ]
        }
      ]
    },
    {
      "cell_type": "code",
      "source": [
        "clf = SGDClassifier(max_iter=5, tol=None)\n",
        "clf.fit(X_train, y_train)\n",
        "y_pred_sgd = clf.predict(X_test)\n",
        "acc_sgd = round(clf.score(X_train, y_train) * 100, 2)\n",
        "print (acc_sgd)"
      ],
      "metadata": {
        "colab": {
          "base_uri": "https://localhost:8080/"
        },
        "id": "lsooAB1rk1fS",
        "outputId": "28c83595-5c8d-4fc6-a9ab-a971f15ce78d"
      },
      "execution_count": null,
      "outputs": [
        {
          "output_type": "stream",
          "name": "stdout",
          "text": [
            "93.24\n"
          ]
        }
      ]
    },
    {
      "cell_type": "code",
      "source": [
        "from sklearn.metrics import confusion_matrix\n",
        "import itertools\n",
        "\n",
        "clf = RandomForestClassifier(n_estimators=100)\n",
        "clf.fit(X_train, y_train)\n",
        "y_pred_random_forest_training_set = clf.predict(X_train)\n",
        "acc_random_forest = round(clf.score(X_train, y_train) * 100, 2)\n",
        "print (\"Accuracy: %i %% \\n\"%acc_random_forest)\n",
        "\n",
        "class_names = ['Legendary', 'Not Legendary']\n",
        "\n",
        "# Compute confusion matrix\n",
        "cnf_matrix = confusion_matrix(y_train, y_pred_random_forest_training_set)\n",
        "np.set_printoptions(precision=2)\n",
        "\n",
        "print ('Confusion Matrix in Numbers')\n",
        "print (cnf_matrix)\n",
        "print ('')\n",
        "\n",
        "cnf_matrix_percent = cnf_matrix.astype('float') / cnf_matrix.sum(axis=1)[:, np.newaxis]\n",
        "\n",
        "print ('Confusion Matrix in Percentage')\n",
        "print (cnf_matrix_percent)\n",
        "print ('')\n",
        "\n",
        "true_class_names = ['True Legendary', 'True Not Legendary']\n",
        "predicted_class_names = ['Predicted Legendary', 'Predicted Not Legendary']\n",
        "\n",
        "df_cnf_matrix = pd.DataFrame(cnf_matrix, \n",
        "                             index = true_class_names,\n",
        "                             columns = predicted_class_names)\n",
        "\n",
        "df_cnf_matrix_percent = pd.DataFrame(cnf_matrix_percent, \n",
        "                                     index = true_class_names,\n",
        "                                     columns = predicted_class_names)\n",
        "\n",
        "plt.figure(figsize = (15,5))\n",
        "\n",
        "plt.subplot(121)\n",
        "sns.heatmap(df_cnf_matrix, annot=True, fmt='d')\n",
        "\n",
        "plt.subplot(122)\n",
        "sns.heatmap(df_cnf_matrix_percent, annot=True)"
      ],
      "metadata": {
        "colab": {
          "base_uri": "https://localhost:8080/",
          "height": 511
        },
        "id": "qXSw6mrPk3P0",
        "outputId": "4548d199-2a9f-4066-d765-18a8597b2e06"
      },
      "execution_count": null,
      "outputs": [
        {
          "output_type": "stream",
          "name": "stdout",
          "text": [
            "Accuracy: 98 % \n",
            "\n",
            "Confusion Matrix in Numbers\n",
            "[[535   1]\n",
            " [  6  35]]\n",
            "\n",
            "Confusion Matrix in Percentage\n",
            "[[1.   0.  ]\n",
            " [0.15 0.85]]\n",
            "\n"
          ]
        },
        {
          "output_type": "execute_result",
          "data": {
            "text/plain": [
              "<matplotlib.axes._subplots.AxesSubplot at 0x7feb494e4c90>"
            ]
          },
          "metadata": {},
          "execution_count": 49
        },
        {
          "output_type": "display_data",
          "data": {
            "text/plain": [
              "<Figure size 1080x360 with 4 Axes>"
            ],
            "image/png": "[encoded data removed]"
          },
          "metadata": {
            "needs_background": "light"
          }
        }
      ]
    },
    {
      "cell_type": "code",
      "source": [
        "models = pd.DataFrame({\n",
        "    'Model': ['Logistic Regression', 'Support Vector Machines', \n",
        "              'KNN', 'Decision Tree', 'Random Forest', 'Naive Bayes', \n",
        "              'Perceptron', 'Stochastic Gradient Decent'],\n",
        "    \n",
        "    'Score': [acc_log_reg, acc_svc, \n",
        "              acc_knn,  acc_decision_tree, acc_random_forest, acc_gnb, \n",
        "              acc_perceptron, acc_sgd]\n",
        "    })\n",
        "\n",
        "models.sort_values(by='Score', ascending=False)"
      ],
      "metadata": {
        "colab": {
          "base_uri": "https://localhost:8080/",
          "height": 300
        },
        "id": "oI9Vxxkvk4wH",
        "outputId": "7f92f5ed-0cf4-4fe9-c018-24d437c0a415"
      },
      "execution_count": null,
      "outputs": [
        {
          "output_type": "execute_result",
          "data": {
            "text/plain": [
              "                        Model  Score\n",
              "3               Decision Tree  98.79\n",
              "4               Random Forest  98.79\n",
              "2                         KNN  95.84\n",
              "0         Logistic Regression  94.45\n",
              "6                  Perceptron  93.93\n",
              "7  Stochastic Gradient Decent  93.24\n",
              "1     Support Vector Machines  92.89\n",
              "5                 Naive Bayes  64.12"
            ],
            "text/html": [
              "\n",
              "  <div id=\"df-1a911b1a-1a56-4fe0-8259-2bbf62e6e94a\">\n",
              "    <div class=\"colab-df-container\">\n",
              "      <div>\n",
              "<style scoped>\n",
              "    .dataframe tbody tr th:only-of-type {\n",
              "        vertical-align: middle;\n",
              "    }\n",
              "\n",
              "    .dataframe tbody tr th {\n",
              "        vertical-align: top;\n",
              "    }\n",
              "\n",
              "    .dataframe thead th {\n",
              "        text-align: right;\n",
              "    }\n",
              "</style>\n",
              "<table border=\"1\" class=\"dataframe\">\n",
              "  <thead>\n",
              "    <tr style=\"text-align: right;\">\n",
              "      <th></th>\n",
              "      <th>Model</th>\n",
              "      <th>Score</th>\n",
              "    </tr>\n",
              "  </thead>\n",
              "  <tbody>\n",
              "    <tr>\n",
              "      <th>3</th>\n",
              "      <td>Decision Tree</td>\n",
              "      <td>98.79</td>\n",
              "    </tr>\n",
              "    <tr>\n",
              "      <th>4</th>\n",
              "      <td>Random Forest</td>\n",
              "      <td>98.79</td>\n",
              "    </tr>\n",
              "    <tr>\n",
              "      <th>2</th>\n",
              "      <td>KNN</td>\n",
              "      <td>95.84</td>\n",
              "    </tr>\n",
              "    <tr>\n",
              "      <th>0</th>\n",
              "      <td>Logistic Regression</td>\n",
              "      <td>94.45</td>\n",
              "    </tr>\n",
              "    <tr>\n",
              "      <th>6</th>\n",
              "      <td>Perceptron</td>\n",
              "      <td>93.93</td>\n",
              "    </tr>\n",
              "    <tr>\n",
              "      <th>7</th>\n",
              "      <td>Stochastic Gradient Decent</td>\n",
              "      <td>93.24</td>\n",
              "    </tr>\n",
              "    <tr>\n",
              "      <th>1</th>\n",
              "      <td>Support Vector Machines</td>\n",
              "      <td>92.89</td>\n",
              "    </tr>\n",
              "    <tr>\n",
              "      <th>5</th>\n",
              "      <td>Naive Bayes</td>\n",
              "      <td>64.12</td>\n",
              "    </tr>\n",
              "  </tbody>\n",
              "</table>\n",
              "</div>\n",
              "      <button class=\"colab-df-convert\" onclick=\"convertToInteractive('df-1a911b1a-1a56-4fe0-8259-2bbf62e6e94a')\"\n",
              "              title=\"Convert this dataframe to an interactive table.\"\n",
              "              style=\"display:none;\">\n",
              "        \n",
              "  <svg xmlns=\"http://www.w3.org/2000/svg\" height=\"24px\"viewBox=\"0 0 24 24\"\n",
              "       width=\"24px\">\n",
              "    <path d=\"M0 0h24v24H0V0z\" fill=\"none\"/>\n",
              "    <path d=\"M18.56 5.44l.94 2.06.94-2.06 2.06-.94-2.06-.94-.94-2.06-.94 2.06-2.06.94zm-11 1L8.5 8.5l.94-2.06 2.06-.94-2.06-.94L8.5 2.5l-.94 2.06-2.06.94zm10 10l.94 2.06.94-2.06 2.06-.94-2.06-.94-.94-2.06-.94 2.06-2.06.94z\"/><path d=\"M17.41 7.96l-1.37-1.37c-.4-.4-.92-.59-1.43-.59-.52 0-1.04.2-1.43.59L10.3 9.45l-7.72 7.72c-.78.78-.78 2.05 0 2.83L4 21.41c.39.39.9.59 1.41.59.51 0 1.02-.2 1.41-.59l7.78-7.78 2.81-2.81c.8-.78.8-2.07 0-2.86zM5.41 20L4 18.59l7.72-7.72 1.47 1.35L5.41 20z\"/>\n",
              "  </svg>\n",
              "      </button>\n",
              "      \n",
              "  <style>\n",
              "    .colab-df-container {\n",
              "      display:flex;\n",
              "      flex-wrap:wrap;\n",
              "      gap: 12px;\n",
              "    }\n",
              "\n",
              "    .colab-df-convert {\n",
              "      background-color: #E8F0FE;\n",
              "      border: none;\n",
              "      border-radius: 50%;\n",
              "      cursor: pointer;\n",
              "      display: none;\n",
              "      fill: #1967D2;\n",
              "      height: 32px;\n",
              "      padding: 0 0 0 0;\n",
              "      width: 32px;\n",
              "    }\n",
              "\n",
              "    .colab-df-convert:hover {\n",
              "      background-color: #E2EBFA;\n",
              "      box-shadow: 0px 1px 2px rgba(60, 64, 67, 0.3), 0px 1px 3px 1px rgba(60, 64, 67, 0.15);\n",
              "      fill: #174EA6;\n",
              "    }\n",
              "\n",
              "    [theme=dark] .colab-df-convert {\n",
              "      background-color: #3B4455;\n",
              "      fill: #D2E3FC;\n",
              "    }\n",
              "\n",
              "    [theme=dark] .colab-df-convert:hover {\n",
              "      background-color: #434B5C;\n",
              "      box-shadow: 0px 1px 3px 1px rgba(0, 0, 0, 0.15);\n",
              "      filter: drop-shadow(0px 1px 2px rgba(0, 0, 0, 0.3));\n",
              "      fill: #FFFFFF;\n",
              "    }\n",
              "  </style>\n",
              "\n",
              "      <script>\n",
              "        const buttonEl =\n",
              "          document.querySelector('#df-1a911b1a-1a56-4fe0-8259-2bbf62e6e94a button.colab-df-convert');\n",
              "        buttonEl.style.display =\n",
              "          google.colab.kernel.accessAllowed ? 'block' : 'none';\n",
              "\n",
              "        async function convertToInteractive(key) {\n",
              "          const element = document.querySelector('#df-1a911b1a-1a56-4fe0-8259-2bbf62e6e94a');\n",
              "          const dataTable =\n",
              "            await google.colab.kernel.invokeFunction('convertToInteractive',\n",
              "                                                     [key], {});\n",
              "          if (!dataTable) return;\n",
              "\n",
              "          const docLinkHtml = 'Like what you see? Visit the ' +\n",
              "            '<a target=\"_blank\" href=https://colab.research.google.com/notebooks/data_table.ipynb>data table notebook</a>'\n",
              "            + ' to learn more about interactive tables.';\n",
              "          element.innerHTML = '';\n",
              "          dataTable['output_type'] = 'display_data';\n",
              "          await google.colab.output.renderOutput(dataTable, element);\n",
              "          const docLink = document.createElement('div');\n",
              "          docLink.innerHTML = docLinkHtml;\n",
              "          element.appendChild(docLink);\n",
              "        }\n",
              "      </script>\n",
              "    </div>\n",
              "  </div>\n",
              "  "
            ]
          },
          "metadata": {},
          "execution_count": 50
        }
      ]
    }
  ]
}